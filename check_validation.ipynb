{
 "cells": [
  {
   "cell_type": "code",
   "execution_count": 7,
   "metadata": {},
   "outputs": [],
   "source": [
    "import json\n",
    "from collections import defaultdict\n",
    "import os\n",
    "import pandas as pd\n",
    "import docker\n",
    "from tqdm import tqdm\n",
    "from datasets import load_dataset\n",
    "import argparse\n"
   ]
  },
  {
   "cell_type": "code",
   "execution_count": 8,
   "metadata": {},
   "outputs": [],
   "source": [
    "\n",
    "def parse_args():\n",
    "    \"\"\"解析命令行参数\"\"\"\n",
    "    parser = argparse.ArgumentParser(\n",
    "        description=\"运行验证任务的配置参数\",\n",
    "        formatter_class=argparse.ArgumentDefaultsHelpFormatter  # 自动显示默认值\n",
    "    )\n",
    "    \n",
    "    # 路径参数\n",
    "    parser.add_argument(\n",
    "        \"--root_dir\", \"-r\",\n",
    "        type=str,\n",
    "        default='/root/projects/main_projects/logs/run_validation/',\n",
    "        help=\"日志存储根目录\"\n",
    "    )\n",
    "    \n",
    "    # 模型参数\n",
    "    parser.add_argument(\n",
    "        \"--hf_name\", \"-m\",\n",
    "        type=str,\n",
    "        default='zengliangcs/SWE-Fixer-Ours-2',\n",
    "        help=\"Hugging Face仓库名称\"\n",
    "    )\n",
    "    # run id\n",
    "    parser.add_argument(\n",
    "        \"--run_id\",\n",
    "        type=str,\n",
    "        default='0331',\n",
    "        help=\"运行id号\"\n",
    "    )\n",
    "    # 数据参数\n",
    "    parser.add_argument(\n",
    "        \"--split\", \"-s\",\n",
    "        type=str,\n",
    "        choices=['train', 'validation', 'test'],\n",
    "        default='train',\n",
    "        help=\"数据集划分类型\"\n",
    "    )\n",
    "    \n",
    "    return parser.parse_known_args()[0]"
   ]
  },
  {
   "cell_type": "code",
   "execution_count": 9,
   "metadata": {},
   "outputs": [],
   "source": [
    "def get_validations(validation_logs, root_dir, test_type):\n",
    "    total_instances_num = 0\n",
    "    instance_with_report_num = 0\n",
    "    root_dir = os.path.join(root_dir, test_type)\n",
    "    for instance_id in os.listdir(root_dir):\n",
    "        instance_id_dir = os.path.join(root_dir, instance_id)\n",
    "        if os.path.isdir(instance_id_dir):\n",
    "            total_instances_num += 1\n",
    "            report_path = os.path.join(instance_id_dir, 'report.json')\n",
    "            # 是否存在report.json\n",
    "            if os.path.isfile(report_path):\n",
    "                instance_with_report_num += 1\n",
    "                try:\n",
    "                    with open(report_path, 'r') as f:\n",
    "                        data = json.load(f)\n",
    "                    # 获取以子目录名为键的 resolved 值，默认为 False\n",
    "                    # resolved = data.get(instance_id, {}).get('resolved', False)\n",
    "                    tests_status =  data.get(instance_id, {}).get('tests_status', {})\n",
    "                    if tests_status != {}:\n",
    "                        pass_set = set(tests_status.get('PASS', []))\n",
    "                        fail_set = set(tests_status.get('FAIL', []))\n",
    "                        validation_logs[instance_id][f\"{test_type}-PASS\"] = pass_set\n",
    "                        validation_logs[instance_id][f\"{test_type}-FAIL\"] = fail_set\n",
    "                except (json.JSONDecodeError, IOError):\n",
    "                    pass\n",
    "    return total_instances_num, instance_with_report_num\n"
   ]
  },
  {
   "cell_type": "code",
   "execution_count": 10,
   "metadata": {},
   "outputs": [],
   "source": [
    "\n",
    "def get_success_validation_data(root_dir):\n",
    "    total_instances_num = {'gold': 0, 'empty': 0}\n",
    "    instance_with_report_num = {'gold': 0, 'empty': 0}\n",
    "    saved_num = 0\n",
    "    validation_logs = defaultdict(lambda: defaultdict(set))\n",
    "    success_validation_data = defaultdict(lambda: defaultdict(list))\n",
    "    for test_type in ['gold', 'empty']:\n",
    "        type_total_instances_num, type_instance_with_report_num = get_validations(validation_logs, root_dir, test_type)\n",
    "        total_instances_num[test_type] = type_total_instances_num\n",
    "        instance_with_report_num[test_type] = type_instance_with_report_num\n",
    "    for instance_id, tests_status in validation_logs.items():\n",
    "        fail_to_pass = tests_status[\"gold-PASS\"] & tests_status[\"empty-FAIL\"]\n",
    "        pass_to_pass = tests_status[\"gold-PASS\"] & tests_status[\"empty-PASS\"]\n",
    "        # 只保存fail_to_pass不为空的instance\n",
    "        if len(fail_to_pass) > 0:\n",
    "            saved_num += 1\n",
    "            success_validation_data[instance_id]['FAIL_TO_PASS'] = list(fail_to_pass)\n",
    "            success_validation_data[instance_id]['PASS_TO_PASS'] = list(pass_to_pass)\n",
    "    return success_validation_data, total_instances_num, instance_with_report_num, saved_num\n"
   ]
  },
  {
   "cell_type": "code",
   "execution_count": 11,
   "metadata": {},
   "outputs": [],
   "source": [
    "\n",
    "def filter_dataset(hf_name, split, success_validation_data):\n",
    "    dataset = load_dataset(hf_name, split=split)\n",
    "    def process_data(example):\n",
    "        instance_id = example['instance_id']\n",
    "        example['FAIL_TO_PASS'] = success_validation_data[instance_id]['FAIL_TO_PASS']\n",
    "        example['PASS_TO_PASS'] = success_validation_data[instance_id]['PASS_TO_PASS']\n",
    "        return example\n",
    "\n",
    "    # 过滤数据并添加字段\n",
    "    validated_instances = dataset.filter(\n",
    "        lambda x: x['instance_id'] in success_validation_data.keys()\n",
    "    ).map(process_data)\n",
    "\n",
    "    return validated_instances\n"
   ]
  },
  {
   "cell_type": "code",
   "execution_count": null,
   "metadata": {},
   "outputs": [
    {
     "name": "stdout",
     "output_type": "stream",
     "text": [
      "当前配置：\n",
      "日志目录：/root/projects/main_projects/logs/run_validation/\n",
      "模型名称：zengliangcs/SWE-Fixer-Ours-2\n",
      "数据划分：train\n",
      "instance总数：total_instances_num={'gold': 882, 'empty': 864}\n",
      "生成report.json的instance总数：instance_with_report_num={'gold': 841, 'empty': 827}\n",
      "保存的instance总数：saved_num=619\n"
     ]
    },
    {
     "name": "stderr",
     "output_type": "stream",
     "text": [
      "Filter: 100%|██████████| 7177/7177 [00:00<00:00, 34131.16 examples/s]\n",
      "Map: 100%|██████████| 619/619 [00:00<00:00, 5042.71 examples/s]"
     ]
    },
    {
     "name": "stdout",
     "output_type": "stream",
     "text": [
      "Dataset({\n",
      "    features: ['repo', 'pull_number', 'instance_id', 'issue_numbers', 'base_commit', 'patch', 'test_patch', 'problem_statement', 'hints_text', 'created_at', 'version', 'FAIL_TO_PASS', 'PASS_TO_PASS'],\n",
      "    num_rows: 619\n",
      "})\n"
     ]
    },
    {
     "name": "stderr",
     "output_type": "stream",
     "text": [
      "\n"
     ]
    }
   ],
   "source": [
    "args = parse_args()\n",
    "print(f\"当前配置：\\n\"\n",
    "        f\"日志目录：{args.root_dir}\\n\"\n",
    "        f\"运行ID：{args.run_id}\\n\"\n",
    "        f\"模型名称：{args.hf_name}\\n\"\n",
    "        f\"数据划分：{args.split}\")\n",
    "\n",
    "root_dir = os.path.join(args.root_dir, args.run_id)\n",
    "success_validation_data, total_instances_num, instance_with_report_num, saved_num = \\\n",
    "    get_success_validation_data(root_dir)\n",
    "\n",
    "print(f\"instance总数：{total_instances_num=}\")\n",
    "print(f\"生成report.json的instance总数：{instance_with_report_num=}\")\n",
    "print(f\"保存的instance总数：{saved_num=}\")\n",
    "\n",
    "validated_instances = filter_dataset(args.hf_name, args.split, success_validation_data)\n",
    "# 保存到本地\n",
    "validated_instances.to_json(\n",
    "    f\"{args.hf_name}.jsonl\", \n",
    "    orient=\"records\", \n",
    "    lines=True,\n",
    "    batch_size=10000,\n",
    "    force_ascii=False\n",
    ")\n"
   ]
  },
  {
   "cell_type": "code",
   "execution_count": 13,
   "metadata": {},
   "outputs": [],
   "source": [
    "# Push validated instance images to Docker Hub\n",
    "def push_validated_instances_images(\n",
    "    instances, \n",
    "    namespace: str = \"lycfight\",\n",
    "    instance_image_tag: str = \"latest\"\n",
    "):\n",
    "    client = docker.from_env()\n",
    "    success = 0\n",
    "    failed = 0\n",
    "    \n",
    "    print(f\"Pushing {len(instances)} validated instance images to {namespace}...\")\n",
    "    with tqdm(total=len(instances)) as pbar:\n",
    "        for instance in instances:\n",
    "            instance_id = instance['instance_id']\n",
    "            image_name = f\"sweb.eval.x86_64.{instance_id.lower()}:{instance_image_tag}\"\n",
    "            new_image_name = f\"{namespace}/{image_name}\".replace(\"__\", \"_s_\")\n",
    "            \n",
    "            try:\n",
    "                image = client.images.get(image_name)\n",
    "                image.tag(new_image_name)\n",
    "                \n",
    "                for line in client.images.push(new_image_name, stream=True, decode=True):\n",
    "                    if 'error' in line:\n",
    "                        raise Exception(line['error'])\n",
    "                success += 1\n",
    "                \n",
    "            except Exception as e:\n",
    "                print(f\"Error pushing {image_name}: {e}\")\n",
    "                failed += 1\n",
    "                \n",
    "            pbar.update(1)\n",
    "            pbar.set_postfix({\n",
    "                \"success\": success,\n",
    "                \"failed\": failed\n",
    "            })\n",
    "    \n",
    "    print(f\"Finished pushing images: {success} successful, {failed} failed\")"
   ]
  },
  {
   "cell_type": "code",
   "execution_count": null,
   "metadata": {},
   "outputs": [
    {
     "name": "stdout",
     "output_type": "stream",
     "text": [
      "Pushing 619 validated instance images to lycfight...\n"
     ]
    },
    {
     "name": "stderr",
     "output_type": "stream",
     "text": [
      " 14%|█▎        | 85/619 [00:00<00:00, 552.14it/s, success=0, failed=85]"
     ]
    },
    {
     "name": "stdout",
     "output_type": "stream",
     "text": [
      "Error pushing sweb.eval.x86_64.pypa__cibuildwheel-408:latest: 404 Client Error for http+docker://localhost/v1.48/images/sweb.eval.x86_64.pypa__cibuildwheel-408:latest/json: Not Found (\"No such image: sweb.eval.x86_64.pypa__cibuildwheel-408:latest\")\n",
      "Error pushing sweb.eval.x86_64.pypa__cibuildwheel-455:latest: 404 Client Error for http+docker://localhost/v1.48/images/sweb.eval.x86_64.pypa__cibuildwheel-455:latest/json: Not Found (\"No such image: sweb.eval.x86_64.pypa__cibuildwheel-455:latest\")\n",
      "Error pushing sweb.eval.x86_64.pypa__cibuildwheel-553:latest: 404 Client Error for http+docker://localhost/v1.48/images/sweb.eval.x86_64.pypa__cibuildwheel-553:latest/json: Not Found (\"No such image: sweb.eval.x86_64.pypa__cibuildwheel-553:latest\")\n",
      "Error pushing sweb.eval.x86_64.pypa__cibuildwheel-829:latest: 404 Client Error for http+docker://localhost/v1.48/images/sweb.eval.x86_64.pypa__cibuildwheel-829:latest/json: Not Found (\"No such image: sweb.eval.x86_64.pypa__cibuildwheel-829:latest\")\n",
      "Error pushing sweb.eval.x86_64.pypa__cibuildwheel-975:latest: 404 Client Error for http+docker://localhost/v1.48/images/sweb.eval.x86_64.pypa__cibuildwheel-975:latest/json: Not Found (\"No such image: sweb.eval.x86_64.pypa__cibuildwheel-975:latest\")\n",
      "Error pushing sweb.eval.x86_64.pypa__cibuildwheel-1098:latest: 404 Client Error for http+docker://localhost/v1.48/images/sweb.eval.x86_64.pypa__cibuildwheel-1098:latest/json: Not Found (\"No such image: sweb.eval.x86_64.pypa__cibuildwheel-1098:latest\")\n",
      "Error pushing sweb.eval.x86_64.pypa__cibuildwheel-1138:latest: 404 Client Error for http+docker://localhost/v1.48/images/sweb.eval.x86_64.pypa__cibuildwheel-1138:latest/json: Not Found (\"No such image: sweb.eval.x86_64.pypa__cibuildwheel-1138:latest\")\n",
      "Error pushing sweb.eval.x86_64.pypa__cibuildwheel-1205:latest: 404 Client Error for http+docker://localhost/v1.48/images/sweb.eval.x86_64.pypa__cibuildwheel-1205:latest/json: Not Found (\"No such image: sweb.eval.x86_64.pypa__cibuildwheel-1205:latest\")\n",
      "Error pushing sweb.eval.x86_64.pypa__cibuildwheel-1226:latest: 404 Client Error for http+docker://localhost/v1.48/images/sweb.eval.x86_64.pypa__cibuildwheel-1226:latest/json: Not Found (\"No such image: sweb.eval.x86_64.pypa__cibuildwheel-1226:latest\")\n",
      "Error pushing sweb.eval.x86_64.pypa__cibuildwheel-1273:latest: 404 Client Error for http+docker://localhost/v1.48/images/sweb.eval.x86_64.pypa__cibuildwheel-1273:latest/json: Not Found (\"No such image: sweb.eval.x86_64.pypa__cibuildwheel-1273:latest\")\n",
      "Error pushing sweb.eval.x86_64.pypa__cibuildwheel-1282:latest: 404 Client Error for http+docker://localhost/v1.48/images/sweb.eval.x86_64.pypa__cibuildwheel-1282:latest/json: Not Found (\"No such image: sweb.eval.x86_64.pypa__cibuildwheel-1282:latest\")\n",
      "Error pushing sweb.eval.x86_64.pypa__cibuildwheel-1564:latest: 404 Client Error for http+docker://localhost/v1.48/images/sweb.eval.x86_64.pypa__cibuildwheel-1564:latest/json: Not Found (\"No such image: sweb.eval.x86_64.pypa__cibuildwheel-1564:latest\")\n",
      "Error pushing sweb.eval.x86_64.pypa__cibuildwheel-1613:latest: 404 Client Error for http+docker://localhost/v1.48/images/sweb.eval.x86_64.pypa__cibuildwheel-1613:latest/json: Not Found (\"No such image: sweb.eval.x86_64.pypa__cibuildwheel-1613:latest\")\n",
      "Error pushing sweb.eval.x86_64.pypa__cibuildwheel-1617:latest: 404 Client Error for http+docker://localhost/v1.48/images/sweb.eval.x86_64.pypa__cibuildwheel-1617:latest/json: Not Found (\"No such image: sweb.eval.x86_64.pypa__cibuildwheel-1617:latest\")\n",
      "Error pushing sweb.eval.x86_64.pypa__cibuildwheel-1621:latest: 404 Client Error for http+docker://localhost/v1.48/images/sweb.eval.x86_64.pypa__cibuildwheel-1621:latest/json: Not Found (\"No such image: sweb.eval.x86_64.pypa__cibuildwheel-1621:latest\")\n",
      "Error pushing sweb.eval.x86_64.pre-commit__pre-commit-33:latest: 404 Client Error for http+docker://localhost/v1.48/images/sweb.eval.x86_64.pre-commit__pre-commit-33:latest/json: Not Found (\"No such image: sweb.eval.x86_64.pre-commit__pre-commit-33:latest\")\n",
      "Error pushing sweb.eval.x86_64.pre-commit__pre-commit-177:latest: 404 Client Error for http+docker://localhost/v1.48/images/sweb.eval.x86_64.pre-commit__pre-commit-177:latest/json: Not Found (\"No such image: sweb.eval.x86_64.pre-commit__pre-commit-177:latest\")\n",
      "Error pushing sweb.eval.x86_64.pre-commit__pre-commit-400:latest: 404 Client Error for http+docker://localhost/v1.48/images/sweb.eval.x86_64.pre-commit__pre-commit-400:latest/json: Not Found (\"No such image: sweb.eval.x86_64.pre-commit__pre-commit-400:latest\")\n",
      "Error pushing sweb.eval.x86_64.pre-commit__pre-commit-602:latest: 404 Client Error for http+docker://localhost/v1.48/images/sweb.eval.x86_64.pre-commit__pre-commit-602:latest/json: Not Found (\"No such image: sweb.eval.x86_64.pre-commit__pre-commit-602:latest\")\n",
      "Error pushing sweb.eval.x86_64.pre-commit__pre-commit-622:latest: 404 Client Error for http+docker://localhost/v1.48/images/sweb.eval.x86_64.pre-commit__pre-commit-622:latest/json: Not Found (\"No such image: sweb.eval.x86_64.pre-commit__pre-commit-622:latest\")\n",
      "Error pushing sweb.eval.x86_64.pre-commit__pre-commit-785:latest: 404 Client Error for http+docker://localhost/v1.48/images/sweb.eval.x86_64.pre-commit__pre-commit-785:latest/json: Not Found (\"No such image: sweb.eval.x86_64.pre-commit__pre-commit-785:latest\")\n",
      "Error pushing sweb.eval.x86_64.pre-commit__pre-commit-803:latest: 404 Client Error for http+docker://localhost/v1.48/images/sweb.eval.x86_64.pre-commit__pre-commit-803:latest/json: Not Found (\"No such image: sweb.eval.x86_64.pre-commit__pre-commit-803:latest\")\n",
      "Error pushing sweb.eval.x86_64.pre-commit__pre-commit-912:latest: 404 Client Error for http+docker://localhost/v1.48/images/sweb.eval.x86_64.pre-commit__pre-commit-912:latest/json: Not Found (\"No such image: sweb.eval.x86_64.pre-commit__pre-commit-912:latest\")\n",
      "Error pushing sweb.eval.x86_64.pre-commit__pre-commit-914:latest: 404 Client Error for http+docker://localhost/v1.48/images/sweb.eval.x86_64.pre-commit__pre-commit-914:latest/json: Not Found (\"No such image: sweb.eval.x86_64.pre-commit__pre-commit-914:latest\")\n",
      "Error pushing sweb.eval.x86_64.pre-commit__pre-commit-933:latest: 404 Client Error for http+docker://localhost/v1.48/images/sweb.eval.x86_64.pre-commit__pre-commit-933:latest/json: Not Found (\"No such image: sweb.eval.x86_64.pre-commit__pre-commit-933:latest\")\n",
      "Error pushing sweb.eval.x86_64.pre-commit__pre-commit-966:latest: 404 Client Error for http+docker://localhost/v1.48/images/sweb.eval.x86_64.pre-commit__pre-commit-966:latest/json: Not Found (\"No such image: sweb.eval.x86_64.pre-commit__pre-commit-966:latest\")\n",
      "Error pushing sweb.eval.x86_64.pre-commit__pre-commit-973:latest: 404 Client Error for http+docker://localhost/v1.48/images/sweb.eval.x86_64.pre-commit__pre-commit-973:latest/json: Not Found (\"No such image: sweb.eval.x86_64.pre-commit__pre-commit-973:latest\")\n",
      "Error pushing sweb.eval.x86_64.pre-commit__pre-commit-977:latest: 404 Client Error for http+docker://localhost/v1.48/images/sweb.eval.x86_64.pre-commit__pre-commit-977:latest/json: Not Found (\"No such image: sweb.eval.x86_64.pre-commit__pre-commit-977:latest\")\n",
      "Error pushing sweb.eval.x86_64.pre-commit__pre-commit-1092:latest: 404 Client Error for http+docker://localhost/v1.48/images/sweb.eval.x86_64.pre-commit__pre-commit-1092:latest/json: Not Found (\"No such image: sweb.eval.x86_64.pre-commit__pre-commit-1092:latest\")\n",
      "Error pushing sweb.eval.x86_64.pre-commit__pre-commit-1094:latest: 404 Client Error for http+docker://localhost/v1.48/images/sweb.eval.x86_64.pre-commit__pre-commit-1094:latest/json: Not Found (\"No such image: sweb.eval.x86_64.pre-commit__pre-commit-1094:latest\")\n",
      "Error pushing sweb.eval.x86_64.pre-commit__pre-commit-1107:latest: 404 Client Error for http+docker://localhost/v1.48/images/sweb.eval.x86_64.pre-commit__pre-commit-1107:latest/json: Not Found (\"No such image: sweb.eval.x86_64.pre-commit__pre-commit-1107:latest\")\n",
      "Error pushing sweb.eval.x86_64.pre-commit__pre-commit-1142:latest: 404 Client Error for http+docker://localhost/v1.48/images/sweb.eval.x86_64.pre-commit__pre-commit-1142:latest/json: Not Found (\"No such image: sweb.eval.x86_64.pre-commit__pre-commit-1142:latest\")\n",
      "Error pushing sweb.eval.x86_64.pre-commit__pre-commit-1179:latest: 404 Client Error for http+docker://localhost/v1.48/images/sweb.eval.x86_64.pre-commit__pre-commit-1179:latest/json: Not Found (\"No such image: sweb.eval.x86_64.pre-commit__pre-commit-1179:latest\")\n",
      "Error pushing sweb.eval.x86_64.pre-commit__pre-commit-1251:latest: 404 Client Error for http+docker://localhost/v1.48/images/sweb.eval.x86_64.pre-commit__pre-commit-1251:latest/json: Not Found (\"No such image: sweb.eval.x86_64.pre-commit__pre-commit-1251:latest\")\n",
      "Error pushing sweb.eval.x86_64.pre-commit__pre-commit-1259:latest: 404 Client Error for http+docker://localhost/v1.48/images/sweb.eval.x86_64.pre-commit__pre-commit-1259:latest/json: Not Found (\"No such image: sweb.eval.x86_64.pre-commit__pre-commit-1259:latest\")\n",
      "Error pushing sweb.eval.x86_64.pre-commit__pre-commit-1299:latest: 404 Client Error for http+docker://localhost/v1.48/images/sweb.eval.x86_64.pre-commit__pre-commit-1299:latest/json: Not Found (\"No such image: sweb.eval.x86_64.pre-commit__pre-commit-1299:latest\")\n",
      "Error pushing sweb.eval.x86_64.pre-commit__pre-commit-1341:latest: 404 Client Error for http+docker://localhost/v1.48/images/sweb.eval.x86_64.pre-commit__pre-commit-1341:latest/json: Not Found (\"No such image: sweb.eval.x86_64.pre-commit__pre-commit-1341:latest\")\n",
      "Error pushing sweb.eval.x86_64.pre-commit__pre-commit-1359:latest: 404 Client Error for http+docker://localhost/v1.48/images/sweb.eval.x86_64.pre-commit__pre-commit-1359:latest/json: Not Found (\"No such image: sweb.eval.x86_64.pre-commit__pre-commit-1359:latest\")\n",
      "Error pushing sweb.eval.x86_64.pre-commit__pre-commit-1363:latest: 404 Client Error for http+docker://localhost/v1.48/images/sweb.eval.x86_64.pre-commit__pre-commit-1363:latest/json: Not Found (\"No such image: sweb.eval.x86_64.pre-commit__pre-commit-1363:latest\")\n",
      "Error pushing sweb.eval.x86_64.pre-commit__pre-commit-1364:latest: 404 Client Error for http+docker://localhost/v1.48/images/sweb.eval.x86_64.pre-commit__pre-commit-1364:latest/json: Not Found (\"No such image: sweb.eval.x86_64.pre-commit__pre-commit-1364:latest\")\n",
      "Error pushing sweb.eval.x86_64.pre-commit__pre-commit-1382:latest: 404 Client Error for http+docker://localhost/v1.48/images/sweb.eval.x86_64.pre-commit__pre-commit-1382:latest/json: Not Found (\"No such image: sweb.eval.x86_64.pre-commit__pre-commit-1382:latest\")\n",
      "Error pushing sweb.eval.x86_64.pre-commit__pre-commit-1395:latest: 404 Client Error for http+docker://localhost/v1.48/images/sweb.eval.x86_64.pre-commit__pre-commit-1395:latest/json: Not Found (\"No such image: sweb.eval.x86_64.pre-commit__pre-commit-1395:latest\")\n",
      "Error pushing sweb.eval.x86_64.pre-commit__pre-commit-1435:latest: 404 Client Error for http+docker://localhost/v1.48/images/sweb.eval.x86_64.pre-commit__pre-commit-1435:latest/json: Not Found (\"No such image: sweb.eval.x86_64.pre-commit__pre-commit-1435:latest\")\n",
      "Error pushing sweb.eval.x86_64.pre-commit__pre-commit-1448:latest: 404 Client Error for http+docker://localhost/v1.48/images/sweb.eval.x86_64.pre-commit__pre-commit-1448:latest/json: Not Found (\"No such image: sweb.eval.x86_64.pre-commit__pre-commit-1448:latest\")\n",
      "Error pushing sweb.eval.x86_64.pre-commit__pre-commit-1467:latest: 404 Client Error for http+docker://localhost/v1.48/images/sweb.eval.x86_64.pre-commit__pre-commit-1467:latest/json: Not Found (\"No such image: sweb.eval.x86_64.pre-commit__pre-commit-1467:latest\")\n",
      "Error pushing sweb.eval.x86_64.pre-commit__pre-commit-1480:latest: 404 Client Error for http+docker://localhost/v1.48/images/sweb.eval.x86_64.pre-commit__pre-commit-1480:latest/json: Not Found (\"No such image: sweb.eval.x86_64.pre-commit__pre-commit-1480:latest\")\n",
      "Error pushing sweb.eval.x86_64.pre-commit__pre-commit-1494:latest: 404 Client Error for http+docker://localhost/v1.48/images/sweb.eval.x86_64.pre-commit__pre-commit-1494:latest/json: Not Found (\"No such image: sweb.eval.x86_64.pre-commit__pre-commit-1494:latest\")\n",
      "Error pushing sweb.eval.x86_64.pre-commit__pre-commit-1497:latest: 404 Client Error for http+docker://localhost/v1.48/images/sweb.eval.x86_64.pre-commit__pre-commit-1497:latest/json: Not Found (\"No such image: sweb.eval.x86_64.pre-commit__pre-commit-1497:latest\")\n",
      "Error pushing sweb.eval.x86_64.pre-commit__pre-commit-1576:latest: 404 Client Error for http+docker://localhost/v1.48/images/sweb.eval.x86_64.pre-commit__pre-commit-1576:latest/json: Not Found (\"No such image: sweb.eval.x86_64.pre-commit__pre-commit-1576:latest\")\n",
      "Error pushing sweb.eval.x86_64.pre-commit__pre-commit-1668:latest: 404 Client Error for http+docker://localhost/v1.48/images/sweb.eval.x86_64.pre-commit__pre-commit-1668:latest/json: Not Found (\"No such image: sweb.eval.x86_64.pre-commit__pre-commit-1668:latest\")\n",
      "Error pushing sweb.eval.x86_64.pre-commit__pre-commit-1707:latest: 404 Client Error for http+docker://localhost/v1.48/images/sweb.eval.x86_64.pre-commit__pre-commit-1707:latest/json: Not Found (\"No such image: sweb.eval.x86_64.pre-commit__pre-commit-1707:latest\")\n",
      "Error pushing sweb.eval.x86_64.pre-commit__pre-commit-1715:latest: 404 Client Error for http+docker://localhost/v1.48/images/sweb.eval.x86_64.pre-commit__pre-commit-1715:latest/json: Not Found (\"No such image: sweb.eval.x86_64.pre-commit__pre-commit-1715:latest\")\n",
      "Error pushing sweb.eval.x86_64.pre-commit__pre-commit-1778:latest: 404 Client Error for http+docker://localhost/v1.48/images/sweb.eval.x86_64.pre-commit__pre-commit-1778:latest/json: Not Found (\"No such image: sweb.eval.x86_64.pre-commit__pre-commit-1778:latest\")\n",
      "Error pushing sweb.eval.x86_64.pre-commit__pre-commit-1888:latest: 404 Client Error for http+docker://localhost/v1.48/images/sweb.eval.x86_64.pre-commit__pre-commit-1888:latest/json: Not Found (\"No such image: sweb.eval.x86_64.pre-commit__pre-commit-1888:latest\")\n",
      "Error pushing sweb.eval.x86_64.pre-commit__pre-commit-1919:latest: 404 Client Error for http+docker://localhost/v1.48/images/sweb.eval.x86_64.pre-commit__pre-commit-1919:latest/json: Not Found (\"No such image: sweb.eval.x86_64.pre-commit__pre-commit-1919:latest\")\n",
      "Error pushing sweb.eval.x86_64.pre-commit__pre-commit-1997:latest: 404 Client Error for http+docker://localhost/v1.48/images/sweb.eval.x86_64.pre-commit__pre-commit-1997:latest/json: Not Found (\"No such image: sweb.eval.x86_64.pre-commit__pre-commit-1997:latest\")\n",
      "Error pushing sweb.eval.x86_64.pre-commit__pre-commit-2005:latest: 404 Client Error for http+docker://localhost/v1.48/images/sweb.eval.x86_64.pre-commit__pre-commit-2005:latest/json: Not Found (\"No such image: sweb.eval.x86_64.pre-commit__pre-commit-2005:latest\")\n",
      "Error pushing sweb.eval.x86_64.pre-commit__pre-commit-2029:latest: 404 Client Error for http+docker://localhost/v1.48/images/sweb.eval.x86_64.pre-commit__pre-commit-2029:latest/json: Not Found (\"No such image: sweb.eval.x86_64.pre-commit__pre-commit-2029:latest\")\n",
      "Error pushing sweb.eval.x86_64.pre-commit__pre-commit-2154:latest: 404 Client Error for http+docker://localhost/v1.48/images/sweb.eval.x86_64.pre-commit__pre-commit-2154:latest/json: Not Found (\"No such image: sweb.eval.x86_64.pre-commit__pre-commit-2154:latest\")\n",
      "Error pushing sweb.eval.x86_64.pre-commit__pre-commit-2312:latest: 404 Client Error for http+docker://localhost/v1.48/images/sweb.eval.x86_64.pre-commit__pre-commit-2312:latest/json: Not Found (\"No such image: sweb.eval.x86_64.pre-commit__pre-commit-2312:latest\")\n",
      "Error pushing sweb.eval.x86_64.pre-commit__pre-commit-2345:latest: 404 Client Error for http+docker://localhost/v1.48/images/sweb.eval.x86_64.pre-commit__pre-commit-2345:latest/json: Not Found (\"No such image: sweb.eval.x86_64.pre-commit__pre-commit-2345:latest\")\n",
      "Error pushing sweb.eval.x86_64.pre-commit__pre-commit-2407:latest: 404 Client Error for http+docker://localhost/v1.48/images/sweb.eval.x86_64.pre-commit__pre-commit-2407:latest/json: Not Found (\"No such image: sweb.eval.x86_64.pre-commit__pre-commit-2407:latest\")\n",
      "Error pushing sweb.eval.x86_64.pre-commit__pre-commit-2480:latest: 404 Client Error for http+docker://localhost/v1.48/images/sweb.eval.x86_64.pre-commit__pre-commit-2480:latest/json: Not Found (\"No such image: sweb.eval.x86_64.pre-commit__pre-commit-2480:latest\")\n",
      "Error pushing sweb.eval.x86_64.pre-commit__pre-commit-2524:latest: 404 Client Error for http+docker://localhost/v1.48/images/sweb.eval.x86_64.pre-commit__pre-commit-2524:latest/json: Not Found (\"No such image: sweb.eval.x86_64.pre-commit__pre-commit-2524:latest\")\n",
      "Error pushing sweb.eval.x86_64.pre-commit__pre-commit-2686:latest: 404 Client Error for http+docker://localhost/v1.48/images/sweb.eval.x86_64.pre-commit__pre-commit-2686:latest/json: Not Found (\"No such image: sweb.eval.x86_64.pre-commit__pre-commit-2686:latest\")\n",
      "Error pushing sweb.eval.x86_64.pre-commit__pre-commit-2743:latest: 404 Client Error for http+docker://localhost/v1.48/images/sweb.eval.x86_64.pre-commit__pre-commit-2743:latest/json: Not Found (\"No such image: sweb.eval.x86_64.pre-commit__pre-commit-2743:latest\")\n",
      "Error pushing sweb.eval.x86_64.pre-commit__pre-commit-2979:latest: 404 Client Error for http+docker://localhost/v1.48/images/sweb.eval.x86_64.pre-commit__pre-commit-2979:latest/json: Not Found (\"No such image: sweb.eval.x86_64.pre-commit__pre-commit-2979:latest\")\n",
      "Error pushing sweb.eval.x86_64.pre-commit__pre-commit-3130:latest: 404 Client Error for http+docker://localhost/v1.48/images/sweb.eval.x86_64.pre-commit__pre-commit-3130:latest/json: Not Found (\"No such image: sweb.eval.x86_64.pre-commit__pre-commit-3130:latest\")\n",
      "Error pushing sweb.eval.x86_64.pre-commit__pre-commit-3168:latest: 404 Client Error for http+docker://localhost/v1.48/images/sweb.eval.x86_64.pre-commit__pre-commit-3168:latest/json: Not Found (\"No such image: sweb.eval.x86_64.pre-commit__pre-commit-3168:latest\")\n",
      "Error pushing sweb.eval.x86_64.prowler-cloud__prowler-2726:latest: 404 Client Error for http+docker://localhost/v1.48/images/sweb.eval.x86_64.prowler-cloud__prowler-2726:latest/json: Not Found (\"No such image: sweb.eval.x86_64.prowler-cloud__prowler-2726:latest\")\n",
      "Error pushing sweb.eval.x86_64.networkx__networkx-4461:latest: 404 Client Error for http+docker://localhost/v1.48/images/sweb.eval.x86_64.networkx__networkx-4461:latest/json: Not Found (\"No such image: sweb.eval.x86_64.networkx__networkx-4461:latest\")\n",
      "Error pushing sweb.eval.x86_64.networkx__networkx-4589:latest: 404 Client Error for http+docker://localhost/v1.48/images/sweb.eval.x86_64.networkx__networkx-4589:latest/json: Not Found (\"No such image: sweb.eval.x86_64.networkx__networkx-4589:latest\")\n",
      "Error pushing sweb.eval.x86_64.networkx__networkx-4659:latest: 404 Client Error for http+docker://localhost/v1.48/images/sweb.eval.x86_64.networkx__networkx-4659:latest/json: Not Found (\"No such image: sweb.eval.x86_64.networkx__networkx-4659:latest\")\n",
      "Error pushing sweb.eval.x86_64.networkx__networkx-4753:latest: 404 Client Error for http+docker://localhost/v1.48/images/sweb.eval.x86_64.networkx__networkx-4753:latest/json: Not Found (\"No such image: sweb.eval.x86_64.networkx__networkx-4753:latest\")\n",
      "Error pushing sweb.eval.x86_64.networkx__networkx-4928:latest: 404 Client Error for http+docker://localhost/v1.48/images/sweb.eval.x86_64.networkx__networkx-4928:latest/json: Not Found (\"No such image: sweb.eval.x86_64.networkx__networkx-4928:latest\")\n",
      "Error pushing sweb.eval.x86_64.networkx__networkx-5007:latest: 404 Client Error for http+docker://localhost/v1.48/images/sweb.eval.x86_64.networkx__networkx-5007:latest/json: Not Found (\"No such image: sweb.eval.x86_64.networkx__networkx-5007:latest\")\n",
      "Error pushing sweb.eval.x86_64.networkx__networkx-5051:latest: 404 Client Error for http+docker://localhost/v1.48/images/sweb.eval.x86_64.networkx__networkx-5051:latest/json: Not Found (\"No such image: sweb.eval.x86_64.networkx__networkx-5051:latest\")\n",
      "Error pushing sweb.eval.x86_64.networkx__networkx-5052:latest: 404 Client Error for http+docker://localhost/v1.48/images/sweb.eval.x86_64.networkx__networkx-5052:latest/json: Not Found (\"No such image: sweb.eval.x86_64.networkx__networkx-5052:latest\")\n",
      "Error pushing sweb.eval.x86_64.networkx__networkx-5077:latest: 404 Client Error for http+docker://localhost/v1.48/images/sweb.eval.x86_64.networkx__networkx-5077:latest/json: Not Found (\"No such image: sweb.eval.x86_64.networkx__networkx-5077:latest\")\n",
      "Error pushing sweb.eval.x86_64.networkx__networkx-5287:latest: 404 Client Error for http+docker://localhost/v1.48/images/sweb.eval.x86_64.networkx__networkx-5287:latest/json: Not Found (\"No such image: sweb.eval.x86_64.networkx__networkx-5287:latest\")\n",
      "Error pushing sweb.eval.x86_64.networkx__networkx-5305:latest: 404 Client Error for http+docker://localhost/v1.48/images/sweb.eval.x86_64.networkx__networkx-5305:latest/json: Not Found (\"No such image: sweb.eval.x86_64.networkx__networkx-5305:latest\")\n",
      "Error pushing sweb.eval.x86_64.networkx__networkx-5394:latest: 404 Client Error for http+docker://localhost/v1.48/images/sweb.eval.x86_64.networkx__networkx-5394:latest/json: Not Found (\"No such image: sweb.eval.x86_64.networkx__networkx-5394:latest\")\n",
      "Error pushing sweb.eval.x86_64.networkx__networkx-5444:latest: 404 Client Error for http+docker://localhost/v1.48/images/sweb.eval.x86_64.networkx__networkx-5444:latest/json: Not Found (\"No such image: sweb.eval.x86_64.networkx__networkx-5444:latest\")\n",
      "Error pushing sweb.eval.x86_64.networkx__networkx-5550:latest: 404 Client Error for http+docker://localhost/v1.48/images/sweb.eval.x86_64.networkx__networkx-5550:latest/json: Not Found (\"No such image: sweb.eval.x86_64.networkx__networkx-5550:latest\")\n",
      "Error pushing sweb.eval.x86_64.networkx__networkx-5575:latest: 404 Client Error for http+docker://localhost/v1.48/images/sweb.eval.x86_64.networkx__networkx-5575:latest/json: Not Found (\"No such image: sweb.eval.x86_64.networkx__networkx-5575:latest\")\n"
     ]
    },
    {
     "name": "stderr",
     "output_type": "stream",
     "text": [
      " 17%|█▋        | 106/619 [00:00<00:00, 552.14it/s, success=0, failed=106]"
     ]
    },
    {
     "name": "stdout",
     "output_type": "stream",
     "text": [
      "Error pushing sweb.eval.x86_64.networkx__networkx-5616:latest: 404 Client Error for http+docker://localhost/v1.48/images/sweb.eval.x86_64.networkx__networkx-5616:latest/json: Not Found (\"No such image: sweb.eval.x86_64.networkx__networkx-5616:latest\")\n",
      "Error pushing sweb.eval.x86_64.networkx__networkx-5697:latest: 404 Client Error for http+docker://localhost/v1.48/images/sweb.eval.x86_64.networkx__networkx-5697:latest/json: Not Found (\"No such image: sweb.eval.x86_64.networkx__networkx-5697:latest\")\n",
      "Error pushing sweb.eval.x86_64.networkx__networkx-5707:latest: 404 Client Error for http+docker://localhost/v1.48/images/sweb.eval.x86_64.networkx__networkx-5707:latest/json: Not Found (\"No such image: sweb.eval.x86_64.networkx__networkx-5707:latest\")\n",
      "Error pushing sweb.eval.x86_64.networkx__networkx-5800:latest: 404 Client Error for http+docker://localhost/v1.48/images/sweb.eval.x86_64.networkx__networkx-5800:latest/json: Not Found (\"No such image: sweb.eval.x86_64.networkx__networkx-5800:latest\")\n",
      "Error pushing sweb.eval.x86_64.networkx__networkx-5846:latest: 404 Client Error for http+docker://localhost/v1.48/images/sweb.eval.x86_64.networkx__networkx-5846:latest/json: Not Found (\"No such image: sweb.eval.x86_64.networkx__networkx-5846:latest\")\n",
      "Error pushing sweb.eval.x86_64.networkx__networkx-5894:latest: 404 Client Error for http+docker://localhost/v1.48/images/sweb.eval.x86_64.networkx__networkx-5894:latest/json: Not Found (\"No such image: sweb.eval.x86_64.networkx__networkx-5894:latest\")\n",
      "Error pushing sweb.eval.x86_64.networkx__networkx-5899:latest: 404 Client Error for http+docker://localhost/v1.48/images/sweb.eval.x86_64.networkx__networkx-5899:latest/json: Not Found (\"No such image: sweb.eval.x86_64.networkx__networkx-5899:latest\")\n",
      "Error pushing sweb.eval.x86_64.networkx__networkx-5902:latest: 404 Client Error for http+docker://localhost/v1.48/images/sweb.eval.x86_64.networkx__networkx-5902:latest/json: Not Found (\"No such image: sweb.eval.x86_64.networkx__networkx-5902:latest\")\n",
      "Error pushing sweb.eval.x86_64.networkx__networkx-5903:latest: 404 Client Error for http+docker://localhost/v1.48/images/sweb.eval.x86_64.networkx__networkx-5903:latest/json: Not Found (\"No such image: sweb.eval.x86_64.networkx__networkx-5903:latest\")\n",
      "Error pushing sweb.eval.x86_64.networkx__networkx-5921:latest: 404 Client Error for http+docker://localhost/v1.48/images/sweb.eval.x86_64.networkx__networkx-5921:latest/json: Not Found (\"No such image: sweb.eval.x86_64.networkx__networkx-5921:latest\")\n",
      "Error pushing sweb.eval.x86_64.networkx__networkx-5988:latest: 404 Client Error for http+docker://localhost/v1.48/images/sweb.eval.x86_64.networkx__networkx-5988:latest/json: Not Found (\"No such image: sweb.eval.x86_64.networkx__networkx-5988:latest\")\n",
      "Error pushing sweb.eval.x86_64.networkx__networkx-6041:latest: 404 Client Error for http+docker://localhost/v1.48/images/sweb.eval.x86_64.networkx__networkx-6041:latest/json: Not Found (\"No such image: sweb.eval.x86_64.networkx__networkx-6041:latest\")\n",
      "Error pushing sweb.eval.x86_64.networkx__networkx-6149:latest: 404 Client Error for http+docker://localhost/v1.48/images/sweb.eval.x86_64.networkx__networkx-6149:latest/json: Not Found (\"No such image: sweb.eval.x86_64.networkx__networkx-6149:latest\")\n",
      "Error pushing sweb.eval.x86_64.networkx__networkx-6186:latest: 404 Client Error for http+docker://localhost/v1.48/images/sweb.eval.x86_64.networkx__networkx-6186:latest/json: Not Found (\"No such image: sweb.eval.x86_64.networkx__networkx-6186:latest\")\n",
      "Error pushing sweb.eval.x86_64.networkx__networkx-6234:latest: 404 Client Error for http+docker://localhost/v1.48/images/sweb.eval.x86_64.networkx__networkx-6234:latest/json: Not Found (\"No such image: sweb.eval.x86_64.networkx__networkx-6234:latest\")\n",
      "Error pushing sweb.eval.x86_64.networkx__networkx-6240:latest: 404 Client Error for http+docker://localhost/v1.48/images/sweb.eval.x86_64.networkx__networkx-6240:latest/json: Not Found (\"No such image: sweb.eval.x86_64.networkx__networkx-6240:latest\")\n",
      "Error pushing sweb.eval.x86_64.networkx__networkx-6270:latest: 404 Client Error for http+docker://localhost/v1.48/images/sweb.eval.x86_64.networkx__networkx-6270:latest/json: Not Found (\"No such image: sweb.eval.x86_64.networkx__networkx-6270:latest\")\n",
      "Error pushing sweb.eval.x86_64.networkx__networkx-6478:latest: 404 Client Error for http+docker://localhost/v1.48/images/sweb.eval.x86_64.networkx__networkx-6478:latest/json: Not Found (\"No such image: sweb.eval.x86_64.networkx__networkx-6478:latest\")\n",
      "Error pushing sweb.eval.x86_64.networkx__networkx-6503:latest: 404 Client Error for http+docker://localhost/v1.48/images/sweb.eval.x86_64.networkx__networkx-6503:latest/json: Not Found (\"No such image: sweb.eval.x86_64.networkx__networkx-6503:latest\")\n",
      "Error pushing sweb.eval.x86_64.networkx__networkx-6558:latest: 404 Client Error for http+docker://localhost/v1.48/images/sweb.eval.x86_64.networkx__networkx-6558:latest/json: Not Found (\"No such image: sweb.eval.x86_64.networkx__networkx-6558:latest\")\n",
      "Error pushing sweb.eval.x86_64.networkx__networkx-6563:latest: 404 Client Error for http+docker://localhost/v1.48/images/sweb.eval.x86_64.networkx__networkx-6563:latest/json: Not Found (\"No such image: sweb.eval.x86_64.networkx__networkx-6563:latest\")\n"
     ]
    },
    {
     "name": "stderr",
     "output_type": "stream",
     "text": [
      " 17%|█▋        | 107/619 [00:00<00:00, 552.14it/s, success=0, failed=107]"
     ]
    },
    {
     "name": "stdout",
     "output_type": "stream",
     "text": [
      "Error pushing sweb.eval.x86_64.networkx__networkx-6612:latest: 404 Client Error for http+docker://localhost/v1.48/images/sweb.eval.x86_64.networkx__networkx-6612:latest/json: Not Found (\"No such image: sweb.eval.x86_64.networkx__networkx-6612:latest\")\n"
     ]
    },
    {
     "name": "stderr",
     "output_type": "stream",
     "text": [
      " 31%|███       | 191/619 [00:00<00:00, 533.86it/s, success=0, failed=191]"
     ]
    },
    {
     "name": "stdout",
     "output_type": "stream",
     "text": [
      "Error pushing sweb.eval.x86_64.networkx__networkx-6694:latest: 404 Client Error for http+docker://localhost/v1.48/images/sweb.eval.x86_64.networkx__networkx-6694:latest/json: Not Found (\"No such image: sweb.eval.x86_64.networkx__networkx-6694:latest\")\n",
      "Error pushing sweb.eval.x86_64.networkx__networkx-6760:latest: 404 Client Error for http+docker://localhost/v1.48/images/sweb.eval.x86_64.networkx__networkx-6760:latest/json: Not Found (\"No such image: sweb.eval.x86_64.networkx__networkx-6760:latest\")\n",
      "Error pushing sweb.eval.x86_64.networkx__networkx-6788:latest: 404 Client Error for http+docker://localhost/v1.48/images/sweb.eval.x86_64.networkx__networkx-6788:latest/json: Not Found (\"No such image: sweb.eval.x86_64.networkx__networkx-6788:latest\")\n",
      "Error pushing sweb.eval.x86_64.networkx__networkx-6837:latest: 404 Client Error for http+docker://localhost/v1.48/images/sweb.eval.x86_64.networkx__networkx-6837:latest/json: Not Found (\"No such image: sweb.eval.x86_64.networkx__networkx-6837:latest\")\n",
      "Error pushing sweb.eval.x86_64.sanic-org__sanic-1954:latest: 404 Client Error for http+docker://localhost/v1.48/images/sweb.eval.x86_64.sanic-org__sanic-1954:latest/json: Not Found (\"No such image: sweb.eval.x86_64.sanic-org__sanic-1954:latest\")\n",
      "Error pushing sweb.eval.x86_64.sanic-org__sanic-1965:latest: 404 Client Error for http+docker://localhost/v1.48/images/sweb.eval.x86_64.sanic-org__sanic-1965:latest/json: Not Found (\"No such image: sweb.eval.x86_64.sanic-org__sanic-1965:latest\")\n",
      "Error pushing sweb.eval.x86_64.yt-dlp__yt-dlp-4524:latest: 404 Client Error for http+docker://localhost/v1.48/images/sweb.eval.x86_64.yt-dlp__yt-dlp-4524:latest/json: Not Found (\"No such image: sweb.eval.x86_64.yt-dlp__yt-dlp-4524:latest\")\n",
      "Error pushing sweb.eval.x86_64.yt-dlp__yt-dlp-4841:latest: 404 Client Error for http+docker://localhost/v1.48/images/sweb.eval.x86_64.yt-dlp__yt-dlp-4841:latest/json: Not Found (\"No such image: sweb.eval.x86_64.yt-dlp__yt-dlp-4841:latest\")\n",
      "Error pushing sweb.eval.x86_64.yt-dlp__yt-dlp-5170:latest: 404 Client Error for http+docker://localhost/v1.48/images/sweb.eval.x86_64.yt-dlp__yt-dlp-5170:latest/json: Not Found (\"No such image: sweb.eval.x86_64.yt-dlp__yt-dlp-5170:latest\")\n",
      "Error pushing sweb.eval.x86_64.yt-dlp__yt-dlp-5195:latest: 404 Client Error for http+docker://localhost/v1.48/images/sweb.eval.x86_64.yt-dlp__yt-dlp-5195:latest/json: Not Found (\"No such image: sweb.eval.x86_64.yt-dlp__yt-dlp-5195:latest\")\n",
      "Error pushing sweb.eval.x86_64.yt-dlp__yt-dlp-5933:latest: 404 Client Error for http+docker://localhost/v1.48/images/sweb.eval.x86_64.yt-dlp__yt-dlp-5933:latest/json: Not Found (\"No such image: sweb.eval.x86_64.yt-dlp__yt-dlp-5933:latest\")\n",
      "Error pushing sweb.eval.x86_64.mkdocs__mkdocs-443:latest: 404 Client Error for http+docker://localhost/v1.48/images/sweb.eval.x86_64.mkdocs__mkdocs-443:latest/json: Not Found (\"No such image: sweb.eval.x86_64.mkdocs__mkdocs-443:latest\")\n",
      "Error pushing sweb.eval.x86_64.mkdocs__mkdocs-1162:latest: 404 Client Error for http+docker://localhost/v1.48/images/sweb.eval.x86_64.mkdocs__mkdocs-1162:latest/json: Not Found (\"No such image: sweb.eval.x86_64.mkdocs__mkdocs-1162:latest\")\n",
      "Error pushing sweb.eval.x86_64.mkdocs__mkdocs-1238:latest: 404 Client Error for http+docker://localhost/v1.48/images/sweb.eval.x86_64.mkdocs__mkdocs-1238:latest/json: Not Found (\"No such image: sweb.eval.x86_64.mkdocs__mkdocs-1238:latest\")\n",
      "Error pushing sweb.eval.x86_64.mkdocs__mkdocs-1520:latest: 404 Client Error for http+docker://localhost/v1.48/images/sweb.eval.x86_64.mkdocs__mkdocs-1520:latest/json: Not Found (\"No such image: sweb.eval.x86_64.mkdocs__mkdocs-1520:latest\")\n",
      "Error pushing sweb.eval.x86_64.mkdocs__mkdocs-2290:latest: 404 Client Error for http+docker://localhost/v1.48/images/sweb.eval.x86_64.mkdocs__mkdocs-2290:latest/json: Not Found (\"No such image: sweb.eval.x86_64.mkdocs__mkdocs-2290:latest\")\n",
      "Error pushing sweb.eval.x86_64.mkdocs__mkdocs-2507:latest: 404 Client Error for http+docker://localhost/v1.48/images/sweb.eval.x86_64.mkdocs__mkdocs-2507:latest/json: Not Found (\"No such image: sweb.eval.x86_64.mkdocs__mkdocs-2507:latest\")\n",
      "Error pushing sweb.eval.x86_64.mkdocs__mkdocs-2740:latest: 404 Client Error for http+docker://localhost/v1.48/images/sweb.eval.x86_64.mkdocs__mkdocs-2740:latest/json: Not Found (\"No such image: sweb.eval.x86_64.mkdocs__mkdocs-2740:latest\")\n",
      "Error pushing sweb.eval.x86_64.mkdocs__mkdocs-2852:latest: 404 Client Error for http+docker://localhost/v1.48/images/sweb.eval.x86_64.mkdocs__mkdocs-2852:latest/json: Not Found (\"No such image: sweb.eval.x86_64.mkdocs__mkdocs-2852:latest\")\n",
      "Error pushing sweb.eval.x86_64.mkdocs__mkdocs-2916:latest: 404 Client Error for http+docker://localhost/v1.48/images/sweb.eval.x86_64.mkdocs__mkdocs-2916:latest/json: Not Found (\"No such image: sweb.eval.x86_64.mkdocs__mkdocs-2916:latest\")\n",
      "Error pushing sweb.eval.x86_64.mkdocs__mkdocs-2959:latest: 404 Client Error for http+docker://localhost/v1.48/images/sweb.eval.x86_64.mkdocs__mkdocs-2959:latest/json: Not Found (\"No such image: sweb.eval.x86_64.mkdocs__mkdocs-2959:latest\")\n",
      "Error pushing sweb.eval.x86_64.mkdocs__mkdocs-3010:latest: 404 Client Error for http+docker://localhost/v1.48/images/sweb.eval.x86_64.mkdocs__mkdocs-3010:latest/json: Not Found (\"No such image: sweb.eval.x86_64.mkdocs__mkdocs-3010:latest\")\n",
      "Error pushing sweb.eval.x86_64.mkdocs__mkdocs-3016:latest: 404 Client Error for http+docker://localhost/v1.48/images/sweb.eval.x86_64.mkdocs__mkdocs-3016:latest/json: Not Found (\"No such image: sweb.eval.x86_64.mkdocs__mkdocs-3016:latest\")\n",
      "Error pushing sweb.eval.x86_64.mkdocs__mkdocs-3022:latest: 404 Client Error for http+docker://localhost/v1.48/images/sweb.eval.x86_64.mkdocs__mkdocs-3022:latest/json: Not Found (\"No such image: sweb.eval.x86_64.mkdocs__mkdocs-3022:latest\")\n",
      "Error pushing sweb.eval.x86_64.mkdocs__mkdocs-3191:latest: 404 Client Error for http+docker://localhost/v1.48/images/sweb.eval.x86_64.mkdocs__mkdocs-3191:latest/json: Not Found (\"No such image: sweb.eval.x86_64.mkdocs__mkdocs-3191:latest\")\n",
      "Error pushing sweb.eval.x86_64.mkdocs__mkdocs-3320:latest: 404 Client Error for http+docker://localhost/v1.48/images/sweb.eval.x86_64.mkdocs__mkdocs-3320:latest/json: Not Found (\"No such image: sweb.eval.x86_64.mkdocs__mkdocs-3320:latest\")\n",
      "Error pushing sweb.eval.x86_64.mkdocs__mkdocs-3324:latest: 404 Client Error for http+docker://localhost/v1.48/images/sweb.eval.x86_64.mkdocs__mkdocs-3324:latest/json: Not Found (\"No such image: sweb.eval.x86_64.mkdocs__mkdocs-3324:latest\")\n",
      "Error pushing sweb.eval.x86_64.mkdocs__mkdocs-3367:latest: 404 Client Error for http+docker://localhost/v1.48/images/sweb.eval.x86_64.mkdocs__mkdocs-3367:latest/json: Not Found (\"No such image: sweb.eval.x86_64.mkdocs__mkdocs-3367:latest\")\n",
      "Error pushing sweb.eval.x86_64.mkdocs__mkdocs-3395:latest: 404 Client Error for http+docker://localhost/v1.48/images/sweb.eval.x86_64.mkdocs__mkdocs-3395:latest/json: Not Found (\"No such image: sweb.eval.x86_64.mkdocs__mkdocs-3395:latest\")\n",
      "Error pushing sweb.eval.x86_64.mkdocs__mkdocs-3449:latest: 404 Client Error for http+docker://localhost/v1.48/images/sweb.eval.x86_64.mkdocs__mkdocs-3449:latest/json: Not Found (\"No such image: sweb.eval.x86_64.mkdocs__mkdocs-3449:latest\")\n",
      "Error pushing sweb.eval.x86_64.mkdocs__mkdocs-3466:latest: 404 Client Error for http+docker://localhost/v1.48/images/sweb.eval.x86_64.mkdocs__mkdocs-3466:latest/json: Not Found (\"No such image: sweb.eval.x86_64.mkdocs__mkdocs-3466:latest\")\n",
      "Error pushing sweb.eval.x86_64.mkdocs__mkdocs-3500:latest: 404 Client Error for http+docker://localhost/v1.48/images/sweb.eval.x86_64.mkdocs__mkdocs-3500:latest/json: Not Found (\"No such image: sweb.eval.x86_64.mkdocs__mkdocs-3500:latest\")\n",
      "Error pushing sweb.eval.x86_64.mkdocs__mkdocs-3501:latest: 404 Client Error for http+docker://localhost/v1.48/images/sweb.eval.x86_64.mkdocs__mkdocs-3501:latest/json: Not Found (\"No such image: sweb.eval.x86_64.mkdocs__mkdocs-3501:latest\")\n",
      "Error pushing sweb.eval.x86_64.mkdocs__mkdocs-3503:latest: 404 Client Error for http+docker://localhost/v1.48/images/sweb.eval.x86_64.mkdocs__mkdocs-3503:latest/json: Not Found (\"No such image: sweb.eval.x86_64.mkdocs__mkdocs-3503:latest\")\n",
      "Error pushing sweb.eval.x86_64.mkdocs__mkdocs-3578:latest: 404 Client Error for http+docker://localhost/v1.48/images/sweb.eval.x86_64.mkdocs__mkdocs-3578:latest/json: Not Found (\"No such image: sweb.eval.x86_64.mkdocs__mkdocs-3578:latest\")\n",
      "Error pushing sweb.eval.x86_64.mkdocs__mkdocs-3700:latest: 404 Client Error for http+docker://localhost/v1.48/images/sweb.eval.x86_64.mkdocs__mkdocs-3700:latest/json: Not Found (\"No such image: sweb.eval.x86_64.mkdocs__mkdocs-3700:latest\")\n",
      "Error pushing sweb.eval.x86_64.spotify__luigi-902:latest: 404 Client Error for http+docker://localhost/v1.48/images/sweb.eval.x86_64.spotify__luigi-902:latest/json: Not Found (\"No such image: sweb.eval.x86_64.spotify__luigi-902:latest\")\n",
      "Error pushing sweb.eval.x86_64.spotify__luigi-908:latest: 404 Client Error for http+docker://localhost/v1.48/images/sweb.eval.x86_64.spotify__luigi-908:latest/json: Not Found (\"No such image: sweb.eval.x86_64.spotify__luigi-908:latest\")\n",
      "Error pushing sweb.eval.x86_64.spotify__luigi-1024:latest: 404 Client Error for http+docker://localhost/v1.48/images/sweb.eval.x86_64.spotify__luigi-1024:latest/json: Not Found (\"No such image: sweb.eval.x86_64.spotify__luigi-1024:latest\")\n",
      "Error pushing sweb.eval.x86_64.spotify__luigi-1363:latest: 404 Client Error for http+docker://localhost/v1.48/images/sweb.eval.x86_64.spotify__luigi-1363:latest/json: Not Found (\"No such image: sweb.eval.x86_64.spotify__luigi-1363:latest\")\n",
      "Error pushing sweb.eval.x86_64.spotify__luigi-1675:latest: 404 Client Error for http+docker://localhost/v1.48/images/sweb.eval.x86_64.spotify__luigi-1675:latest/json: Not Found (\"No such image: sweb.eval.x86_64.spotify__luigi-1675:latest\")\n",
      "Error pushing sweb.eval.x86_64.spotify__luigi-1708:latest: 404 Client Error for http+docker://localhost/v1.48/images/sweb.eval.x86_64.spotify__luigi-1708:latest/json: Not Found (\"No such image: sweb.eval.x86_64.spotify__luigi-1708:latest\")\n",
      "Error pushing sweb.eval.x86_64.spotify__luigi-1744:latest: 404 Client Error for http+docker://localhost/v1.48/images/sweb.eval.x86_64.spotify__luigi-1744:latest/json: Not Found (\"No such image: sweb.eval.x86_64.spotify__luigi-1744:latest\")\n",
      "Error pushing sweb.eval.x86_64.spotify__luigi-2168:latest: 404 Client Error for http+docker://localhost/v1.48/images/sweb.eval.x86_64.spotify__luigi-2168:latest/json: Not Found (\"No such image: sweb.eval.x86_64.spotify__luigi-2168:latest\")\n",
      "Error pushing sweb.eval.x86_64.spotify__luigi-2303:latest: 404 Client Error for http+docker://localhost/v1.48/images/sweb.eval.x86_64.spotify__luigi-2303:latest/json: Not Found (\"No such image: sweb.eval.x86_64.spotify__luigi-2303:latest\")\n",
      "Error pushing sweb.eval.x86_64.spotify__luigi-2323:latest: 404 Client Error for http+docker://localhost/v1.48/images/sweb.eval.x86_64.spotify__luigi-2323:latest/json: Not Found (\"No such image: sweb.eval.x86_64.spotify__luigi-2323:latest\")\n",
      "Error pushing sweb.eval.x86_64.spotify__luigi-2548:latest: 404 Client Error for http+docker://localhost/v1.48/images/sweb.eval.x86_64.spotify__luigi-2548:latest/json: Not Found (\"No such image: sweb.eval.x86_64.spotify__luigi-2548:latest\")\n",
      "Error pushing sweb.eval.x86_64.spotify__luigi-3081:latest: 404 Client Error for http+docker://localhost/v1.48/images/sweb.eval.x86_64.spotify__luigi-3081:latest/json: Not Found (\"No such image: sweb.eval.x86_64.spotify__luigi-3081:latest\")\n",
      "Error pushing sweb.eval.x86_64.spotify__luigi-3175:latest: 404 Client Error for http+docker://localhost/v1.48/images/sweb.eval.x86_64.spotify__luigi-3175:latest/json: Not Found (\"No such image: sweb.eval.x86_64.spotify__luigi-3175:latest\")\n",
      "Error pushing sweb.eval.x86_64.spotify__luigi-3216:latest: 404 Client Error for http+docker://localhost/v1.48/images/sweb.eval.x86_64.spotify__luigi-3216:latest/json: Not Found (\"No such image: sweb.eval.x86_64.spotify__luigi-3216:latest\")\n",
      "Error pushing sweb.eval.x86_64.ultrabug__py3status-1221:latest: 404 Client Error for http+docker://localhost/v1.48/images/sweb.eval.x86_64.ultrabug__py3status-1221:latest/json: Not Found (\"No such image: sweb.eval.x86_64.ultrabug__py3status-1221:latest\")\n",
      "Error pushing sweb.eval.x86_64.python-trio__trio-502:latest: 404 Client Error for http+docker://localhost/v1.48/images/sweb.eval.x86_64.python-trio__trio-502:latest/json: Not Found (\"No such image: sweb.eval.x86_64.python-trio__trio-502:latest\")\n",
      "Error pushing sweb.eval.x86_64.python-trio__trio-576:latest: 404 Client Error for http+docker://localhost/v1.48/images/sweb.eval.x86_64.python-trio__trio-576:latest/json: Not Found (\"No such image: sweb.eval.x86_64.python-trio__trio-576:latest\")\n",
      "Error pushing sweb.eval.x86_64.python-trio__trio-744:latest: 404 Client Error for http+docker://localhost/v1.48/images/sweb.eval.x86_64.python-trio__trio-744:latest/json: Not Found (\"No such image: sweb.eval.x86_64.python-trio__trio-744:latest\")\n",
      "Error pushing sweb.eval.x86_64.python-trio__trio-967:latest: 404 Client Error for http+docker://localhost/v1.48/images/sweb.eval.x86_64.python-trio__trio-967:latest/json: Not Found (\"No such image: sweb.eval.x86_64.python-trio__trio-967:latest\")\n",
      "Error pushing sweb.eval.x86_64.python-trio__trio-1038:latest: 404 Client Error for http+docker://localhost/v1.48/images/sweb.eval.x86_64.python-trio__trio-1038:latest/json: Not Found (\"No such image: sweb.eval.x86_64.python-trio__trio-1038:latest\")\n",
      "Error pushing sweb.eval.x86_64.python-trio__trio-1137:latest: 404 Client Error for http+docker://localhost/v1.48/images/sweb.eval.x86_64.python-trio__trio-1137:latest/json: Not Found (\"No such image: sweb.eval.x86_64.python-trio__trio-1137:latest\")\n",
      "Error pushing sweb.eval.x86_64.python-trio__trio-1527:latest: 404 Client Error for http+docker://localhost/v1.48/images/sweb.eval.x86_64.python-trio__trio-1527:latest/json: Not Found (\"No such image: sweb.eval.x86_64.python-trio__trio-1527:latest\")\n",
      "Error pushing sweb.eval.x86_64.python-trio__trio-1575:latest: 404 Client Error for http+docker://localhost/v1.48/images/sweb.eval.x86_64.python-trio__trio-1575:latest/json: Not Found (\"No such image: sweb.eval.x86_64.python-trio__trio-1575:latest\")\n",
      "Error pushing sweb.eval.x86_64.python-trio__trio-2462:latest: 404 Client Error for http+docker://localhost/v1.48/images/sweb.eval.x86_64.python-trio__trio-2462:latest/json: Not Found (\"No such image: sweb.eval.x86_64.python-trio__trio-2462:latest\")\n",
      "Error pushing sweb.eval.x86_64.python-trio__trio-2470:latest: 404 Client Error for http+docker://localhost/v1.48/images/sweb.eval.x86_64.python-trio__trio-2470:latest/json: Not Found (\"No such image: sweb.eval.x86_64.python-trio__trio-2470:latest\")\n",
      "Error pushing sweb.eval.x86_64.python-trio__trio-2475:latest: 404 Client Error for http+docker://localhost/v1.48/images/sweb.eval.x86_64.python-trio__trio-2475:latest/json: Not Found (\"No such image: sweb.eval.x86_64.python-trio__trio-2475:latest\")\n",
      "Error pushing sweb.eval.x86_64.openai__gym-1576:latest: 404 Client Error for http+docker://localhost/v1.48/images/sweb.eval.x86_64.openai__gym-1576:latest/json: Not Found (\"No such image: sweb.eval.x86_64.openai__gym-1576:latest\")\n",
      "Error pushing sweb.eval.x86_64.openai__gym-1966:latest: 404 Client Error for http+docker://localhost/v1.48/images/sweb.eval.x86_64.openai__gym-1966:latest/json: Not Found (\"No such image: sweb.eval.x86_64.openai__gym-1966:latest\")\n",
      "Error pushing sweb.eval.x86_64.openai__gym-2070:latest: 404 Client Error for http+docker://localhost/v1.48/images/sweb.eval.x86_64.openai__gym-2070:latest/json: Not Found (\"No such image: sweb.eval.x86_64.openai__gym-2070:latest\")\n",
      "Error pushing sweb.eval.x86_64.microsoft__ptvsd-341:latest: 404 Client Error for http+docker://localhost/v1.48/images/sweb.eval.x86_64.microsoft__ptvsd-341:latest/json: Not Found (\"No such image: sweb.eval.x86_64.microsoft__ptvsd-341:latest\")\n",
      "Error pushing sweb.eval.x86_64.microsoft__ptvsd-552:latest: 404 Client Error for http+docker://localhost/v1.48/images/sweb.eval.x86_64.microsoft__ptvsd-552:latest/json: Not Found (\"No such image: sweb.eval.x86_64.microsoft__ptvsd-552:latest\")\n",
      "Error pushing sweb.eval.x86_64.microsoft__ptvsd-619:latest: 404 Client Error for http+docker://localhost/v1.48/images/sweb.eval.x86_64.microsoft__ptvsd-619:latest/json: Not Found (\"No such image: sweb.eval.x86_64.microsoft__ptvsd-619:latest\")\n",
      "Error pushing sweb.eval.x86_64.microsoft__ptvsd-702:latest: 404 Client Error for http+docker://localhost/v1.48/images/sweb.eval.x86_64.microsoft__ptvsd-702:latest/json: Not Found (\"No such image: sweb.eval.x86_64.microsoft__ptvsd-702:latest\")\n",
      "Error pushing sweb.eval.x86_64.microsoft__ptvsd-829:latest: 404 Client Error for http+docker://localhost/v1.48/images/sweb.eval.x86_64.microsoft__ptvsd-829:latest/json: Not Found (\"No such image: sweb.eval.x86_64.microsoft__ptvsd-829:latest\")\n",
      "Error pushing sweb.eval.x86_64.microsoft__ptvsd-909:latest: 404 Client Error for http+docker://localhost/v1.48/images/sweb.eval.x86_64.microsoft__ptvsd-909:latest/json: Not Found (\"No such image: sweb.eval.x86_64.microsoft__ptvsd-909:latest\")\n",
      "Error pushing sweb.eval.x86_64.microsoft__ptvsd-926:latest: 404 Client Error for http+docker://localhost/v1.48/images/sweb.eval.x86_64.microsoft__ptvsd-926:latest/json: Not Found (\"No such image: sweb.eval.x86_64.microsoft__ptvsd-926:latest\")\n",
      "Error pushing sweb.eval.x86_64.microsoft__ptvsd-2043:latest: 404 Client Error for http+docker://localhost/v1.48/images/sweb.eval.x86_64.microsoft__ptvsd-2043:latest/json: Not Found (\"No such image: sweb.eval.x86_64.microsoft__ptvsd-2043:latest\")\n",
      "Error pushing sweb.eval.x86_64.sktime__sktime-3167:latest: 404 Client Error for http+docker://localhost/v1.48/images/sweb.eval.x86_64.sktime__sktime-3167:latest/json: Not Found (\"No such image: sweb.eval.x86_64.sktime__sktime-3167:latest\")\n",
      "Error pushing sweb.eval.x86_64.sktime__sktime-3208:latest: 404 Client Error for http+docker://localhost/v1.48/images/sweb.eval.x86_64.sktime__sktime-3208:latest/json: Not Found (\"No such image: sweb.eval.x86_64.sktime__sktime-3208:latest\")\n",
      "Error pushing sweb.eval.x86_64.sktime__sktime-3225:latest: 404 Client Error for http+docker://localhost/v1.48/images/sweb.eval.x86_64.sktime__sktime-3225:latest/json: Not Found (\"No such image: sweb.eval.x86_64.sktime__sktime-3225:latest\")\n",
      "Error pushing sweb.eval.x86_64.sktime__sktime-3435:latest: 404 Client Error for http+docker://localhost/v1.48/images/sweb.eval.x86_64.sktime__sktime-3435:latest/json: Not Found (\"No such image: sweb.eval.x86_64.sktime__sktime-3435:latest\")\n",
      "Error pushing sweb.eval.x86_64.sktime__sktime-3475:latest: 404 Client Error for http+docker://localhost/v1.48/images/sweb.eval.x86_64.sktime__sktime-3475:latest/json: Not Found (\"No such image: sweb.eval.x86_64.sktime__sktime-3475:latest\")\n",
      "Error pushing sweb.eval.x86_64.sktime__sktime-3504:latest: 404 Client Error for http+docker://localhost/v1.48/images/sweb.eval.x86_64.sktime__sktime-3504:latest/json: Not Found (\"No such image: sweb.eval.x86_64.sktime__sktime-3504:latest\")\n",
      "Error pushing sweb.eval.x86_64.sktime__sktime-3549:latest: 404 Client Error for http+docker://localhost/v1.48/images/sweb.eval.x86_64.sktime__sktime-3549:latest/json: Not Found (\"No such image: sweb.eval.x86_64.sktime__sktime-3549:latest\")\n",
      "Error pushing sweb.eval.x86_64.sktime__sktime-3566:latest: 404 Client Error for http+docker://localhost/v1.48/images/sweb.eval.x86_64.sktime__sktime-3566:latest/json: Not Found (\"No such image: sweb.eval.x86_64.sktime__sktime-3566:latest\")\n",
      "Error pushing sweb.eval.x86_64.sktime__sktime-3606:latest: 404 Client Error for http+docker://localhost/v1.48/images/sweb.eval.x86_64.sktime__sktime-3606:latest/json: Not Found (\"No such image: sweb.eval.x86_64.sktime__sktime-3606:latest\")\n",
      "Error pushing sweb.eval.x86_64.sktime__sktime-3623:latest: 404 Client Error for http+docker://localhost/v1.48/images/sweb.eval.x86_64.sktime__sktime-3623:latest/json: Not Found (\"No such image: sweb.eval.x86_64.sktime__sktime-3623:latest\")\n",
      "Error pushing sweb.eval.x86_64.sktime__sktime-3627:latest: 404 Client Error for http+docker://localhost/v1.48/images/sweb.eval.x86_64.sktime__sktime-3627:latest/json: Not Found (\"No such image: sweb.eval.x86_64.sktime__sktime-3627:latest\")\n",
      "Error pushing sweb.eval.x86_64.sktime__sktime-3690:latest: 404 Client Error for http+docker://localhost/v1.48/images/sweb.eval.x86_64.sktime__sktime-3690:latest/json: Not Found (\"No such image: sweb.eval.x86_64.sktime__sktime-3690:latest\")\n"
     ]
    },
    {
     "name": "stderr",
     "output_type": "stream",
     "text": [
      " 32%|███▏      | 199/619 [00:00<00:00, 533.86it/s, success=0, failed=199]"
     ]
    },
    {
     "name": "stdout",
     "output_type": "stream",
     "text": [
      "Error pushing sweb.eval.x86_64.obspy__obspy-3012:latest: 404 Client Error for http+docker://localhost/v1.48/images/sweb.eval.x86_64.obspy__obspy-3012:latest/json: Not Found (\"No such image: sweb.eval.x86_64.obspy__obspy-3012:latest\")\n",
      "Error pushing sweb.eval.x86_64.obspy__obspy-3013:latest: 404 Client Error for http+docker://localhost/v1.48/images/sweb.eval.x86_64.obspy__obspy-3013:latest/json: Not Found (\"No such image: sweb.eval.x86_64.obspy__obspy-3013:latest\")\n",
      "Error pushing sweb.eval.x86_64.obspy__obspy-3073:latest: 404 Client Error for http+docker://localhost/v1.48/images/sweb.eval.x86_64.obspy__obspy-3073:latest/json: Not Found (\"No such image: sweb.eval.x86_64.obspy__obspy-3073:latest\")\n",
      "Error pushing sweb.eval.x86_64.obspy__obspy-3106:latest: 404 Client Error for http+docker://localhost/v1.48/images/sweb.eval.x86_64.obspy__obspy-3106:latest/json: Not Found (\"No such image: sweb.eval.x86_64.obspy__obspy-3106:latest\")\n",
      "Error pushing sweb.eval.x86_64.obspy__obspy-3232:latest: 404 Client Error for http+docker://localhost/v1.48/images/sweb.eval.x86_64.obspy__obspy-3232:latest/json: Not Found (\"No such image: sweb.eval.x86_64.obspy__obspy-3232:latest\")\n",
      "Error pushing sweb.eval.x86_64.obspy__obspy-3343:latest: 404 Client Error for http+docker://localhost/v1.48/images/sweb.eval.x86_64.obspy__obspy-3343:latest/json: Not Found (\"No such image: sweb.eval.x86_64.obspy__obspy-3343:latest\")\n",
      "Error pushing sweb.eval.x86_64.obspy__obspy-3379:latest: 404 Client Error for http+docker://localhost/v1.48/images/sweb.eval.x86_64.obspy__obspy-3379:latest/json: Not Found (\"No such image: sweb.eval.x86_64.obspy__obspy-3379:latest\")\n"
     ]
    },
    {
     "name": "stderr",
     "output_type": "stream",
     "text": [
      " 32%|███▏      | 201/619 [00:01<00:00, 533.86it/s, success=0, failed=201]"
     ]
    },
    {
     "name": "stdout",
     "output_type": "stream",
     "text": [
      "Error pushing sweb.eval.x86_64.sbi-dev__sbi-646:latest: denied: requested access to the resource is denied\n",
      "Error pushing sweb.eval.x86_64.unionai-oss__pandera-22:latest: 404 Client Error for http+docker://localhost/v1.48/images/sweb.eval.x86_64.unionai-oss__pandera-22:latest/json: Not Found (\"No such image: sweb.eval.x86_64.unionai-oss__pandera-22:latest\")\n"
     ]
    },
    {
     "name": "stderr",
     "output_type": "stream",
     "text": [
      " 33%|███▎      | 202/619 [00:02<00:00, 533.86it/s, success=0, failed=202]"
     ]
    },
    {
     "name": "stdout",
     "output_type": "stream",
     "text": [
      "Error pushing sweb.eval.x86_64.pytorch__ignite-723:latest: denied: requested access to the resource is denied\n"
     ]
    },
    {
     "name": "stderr",
     "output_type": "stream",
     "text": [
      " 33%|███▎      | 203/619 [00:03<00:00, 533.86it/s, success=0, failed=203]"
     ]
    },
    {
     "name": "stdout",
     "output_type": "stream",
     "text": [
      "Error pushing sweb.eval.x86_64.pytorch__ignite-919:latest: denied: requested access to the resource is denied\n"
     ]
    },
    {
     "name": "stderr",
     "output_type": "stream",
     "text": [
      " 33%|███▎      | 204/619 [00:04<00:00, 533.86it/s, success=0, failed=204]"
     ]
    },
    {
     "name": "stdout",
     "output_type": "stream",
     "text": [
      "Error pushing sweb.eval.x86_64.pytorch__ignite-958:latest: denied: requested access to the resource is denied\n"
     ]
    },
    {
     "name": "stderr",
     "output_type": "stream",
     "text": [
      " 33%|███▎      | 205/619 [00:06<00:00, 533.86it/s, success=0, failed=205]"
     ]
    },
    {
     "name": "stdout",
     "output_type": "stream",
     "text": [
      "Error pushing sweb.eval.x86_64.pytorch__ignite-976:latest: denied: requested access to the resource is denied\n"
     ]
    },
    {
     "name": "stderr",
     "output_type": "stream",
     "text": [
      " 33%|███▎      | 206/619 [00:07<00:00, 533.86it/s, success=0, failed=206]"
     ]
    },
    {
     "name": "stdout",
     "output_type": "stream",
     "text": [
      "Error pushing sweb.eval.x86_64.pytorch__ignite-985:latest: denied: requested access to the resource is denied\n"
     ]
    },
    {
     "name": "stderr",
     "output_type": "stream",
     "text": [
      " 33%|███▎      | 207/619 [00:08<00:00, 533.86it/s, success=0, failed=207]"
     ]
    },
    {
     "name": "stdout",
     "output_type": "stream",
     "text": [
      "Error pushing sweb.eval.x86_64.pytorch__ignite-994:latest: denied: requested access to the resource is denied\n"
     ]
    },
    {
     "name": "stderr",
     "output_type": "stream",
     "text": [
      " 34%|███▎      | 208/619 [00:09<00:00, 533.86it/s, success=0, failed=208]"
     ]
    },
    {
     "name": "stdout",
     "output_type": "stream",
     "text": [
      "Error pushing sweb.eval.x86_64.pytorch__ignite-1027:latest: denied: requested access to the resource is denied\n"
     ]
    },
    {
     "name": "stderr",
     "output_type": "stream",
     "text": [
      " 34%|███▍      | 209/619 [00:11<00:00, 533.86it/s, success=0, failed=209]"
     ]
    },
    {
     "name": "stdout",
     "output_type": "stream",
     "text": [
      "Error pushing sweb.eval.x86_64.pytorch__ignite-1029:latest: denied: requested access to the resource is denied\n"
     ]
    },
    {
     "name": "stderr",
     "output_type": "stream",
     "text": [
      " 34%|███▍      | 210/619 [00:12<00:00, 533.86it/s, success=0, failed=210]"
     ]
    },
    {
     "name": "stdout",
     "output_type": "stream",
     "text": [
      "Error pushing sweb.eval.x86_64.pytorch__ignite-1043:latest: denied: requested access to the resource is denied\n"
     ]
    },
    {
     "name": "stderr",
     "output_type": "stream",
     "text": [
      " 34%|███▍      | 211/619 [00:13<00:00, 533.86it/s, success=0, failed=211]"
     ]
    },
    {
     "name": "stdout",
     "output_type": "stream",
     "text": [
      "Error pushing sweb.eval.x86_64.pytorch__ignite-1044:latest: denied: requested access to the resource is denied\n"
     ]
    },
    {
     "name": "stderr",
     "output_type": "stream",
     "text": [
      " 34%|███▍      | 212/619 [00:14<00:00, 533.86it/s, success=0, failed=212]"
     ]
    },
    {
     "name": "stdout",
     "output_type": "stream",
     "text": [
      "Error pushing sweb.eval.x86_64.pytorch__ignite-1048:latest: denied: requested access to the resource is denied\n"
     ]
    },
    {
     "name": "stderr",
     "output_type": "stream",
     "text": [
      " 34%|███▍      | 213/619 [00:15<00:00, 533.86it/s, success=0, failed=213]"
     ]
    },
    {
     "name": "stdout",
     "output_type": "stream",
     "text": [
      "Error pushing sweb.eval.x86_64.pytorch__ignite-1054:latest: denied: requested access to the resource is denied\n"
     ]
    },
    {
     "name": "stderr",
     "output_type": "stream",
     "text": [
      " 35%|███▍      | 214/619 [00:16<00:00, 533.86it/s, success=0, failed=214]"
     ]
    },
    {
     "name": "stdout",
     "output_type": "stream",
     "text": [
      "Error pushing sweb.eval.x86_64.pytorch__ignite-1063:latest: denied: requested access to the resource is denied\n"
     ]
    },
    {
     "name": "stderr",
     "output_type": "stream",
     "text": [
      " 35%|███▍      | 215/619 [00:20<01:01,  6.62it/s, success=0, failed=215] "
     ]
    },
    {
     "name": "stdout",
     "output_type": "stream",
     "text": [
      "Error pushing sweb.eval.x86_64.pytorch__ignite-1072:latest: denied: requested access to the resource is denied\n"
     ]
    },
    {
     "name": "stderr",
     "output_type": "stream",
     "text": [
      " 35%|███▍      | 216/619 [00:23<01:15,  5.34it/s, success=0, failed=216]"
     ]
    },
    {
     "name": "stdout",
     "output_type": "stream",
     "text": [
      "Error pushing sweb.eval.x86_64.pytorch__ignite-1077:latest: denied: requested access to the resource is denied\n"
     ]
    },
    {
     "name": "stderr",
     "output_type": "stream",
     "text": [
      " 35%|███▌      | 217/619 [00:25<01:15,  5.34it/s, success=0, failed=217]"
     ]
    },
    {
     "name": "stdout",
     "output_type": "stream",
     "text": [
      "Error pushing sweb.eval.x86_64.pytorch__ignite-1086:latest: denied: requested access to the resource is denied\n"
     ]
    },
    {
     "name": "stderr",
     "output_type": "stream",
     "text": [
      " 35%|███▌      | 218/619 [00:26<01:15,  5.34it/s, success=0, failed=218]"
     ]
    },
    {
     "name": "stdout",
     "output_type": "stream",
     "text": [
      "Error pushing sweb.eval.x86_64.pytorch__ignite-1099:latest: denied: requested access to the resource is denied\n"
     ]
    },
    {
     "name": "stderr",
     "output_type": "stream",
     "text": [
      " 35%|███▌      | 219/619 [00:27<01:14,  5.34it/s, success=0, failed=219]"
     ]
    },
    {
     "name": "stdout",
     "output_type": "stream",
     "text": [
      "Error pushing sweb.eval.x86_64.pytorch__ignite-1127:latest: denied: requested access to the resource is denied\n"
     ]
    },
    {
     "name": "stderr",
     "output_type": "stream",
     "text": [
      " 36%|███▌      | 220/619 [00:29<01:14,  5.34it/s, success=0, failed=220]"
     ]
    },
    {
     "name": "stdout",
     "output_type": "stream",
     "text": [
      "Error pushing sweb.eval.x86_64.pytorch__ignite-1135:latest: denied: requested access to the resource is denied\n"
     ]
    },
    {
     "name": "stderr",
     "output_type": "stream",
     "text": [
      " 36%|███▌      | 221/619 [00:30<01:14,  5.34it/s, success=0, failed=221]"
     ]
    },
    {
     "name": "stdout",
     "output_type": "stream",
     "text": [
      "Error pushing sweb.eval.x86_64.pytorch__ignite-1155:latest: denied: requested access to the resource is denied\n"
     ]
    },
    {
     "name": "stderr",
     "output_type": "stream",
     "text": [
      " 36%|███▌      | 222/619 [00:32<01:14,  5.34it/s, success=0, failed=222]"
     ]
    },
    {
     "name": "stdout",
     "output_type": "stream",
     "text": [
      "Error pushing sweb.eval.x86_64.pytorch__ignite-1170:latest: denied: requested access to the resource is denied\n"
     ]
    },
    {
     "name": "stderr",
     "output_type": "stream",
     "text": [
      " 36%|███▌      | 223/619 [00:33<01:14,  5.34it/s, success=0, failed=223]"
     ]
    },
    {
     "name": "stdout",
     "output_type": "stream",
     "text": [
      "Error pushing sweb.eval.x86_64.pytorch__ignite-1194:latest: denied: requested access to the resource is denied\n"
     ]
    },
    {
     "name": "stderr",
     "output_type": "stream",
     "text": [
      " 36%|███▌      | 224/619 [00:34<01:13,  5.34it/s, success=0, failed=224]"
     ]
    },
    {
     "name": "stdout",
     "output_type": "stream",
     "text": [
      "Error pushing sweb.eval.x86_64.pytorch__ignite-1245:latest: denied: requested access to the resource is denied\n"
     ]
    },
    {
     "name": "stderr",
     "output_type": "stream",
     "text": [
      " 36%|███▋      | 225/619 [00:35<01:13,  5.34it/s, success=0, failed=225]"
     ]
    },
    {
     "name": "stdout",
     "output_type": "stream",
     "text": [
      "Error pushing sweb.eval.x86_64.pytorch__ignite-1265:latest: denied: requested access to the resource is denied\n"
     ]
    },
    {
     "name": "stderr",
     "output_type": "stream",
     "text": [
      " 37%|███▋      | 226/619 [00:37<01:13,  5.34it/s, success=0, failed=226]"
     ]
    },
    {
     "name": "stdout",
     "output_type": "stream",
     "text": [
      "Error pushing sweb.eval.x86_64.pytorch__ignite-1274:latest: denied: requested access to the resource is denied\n"
     ]
    },
    {
     "name": "stderr",
     "output_type": "stream",
     "text": [
      " 37%|███▋      | 227/619 [00:38<01:13,  5.34it/s, success=0, failed=227]"
     ]
    },
    {
     "name": "stdout",
     "output_type": "stream",
     "text": [
      "Error pushing sweb.eval.x86_64.pytorch__ignite-1333:latest: denied: requested access to the resource is denied\n"
     ]
    },
    {
     "name": "stderr",
     "output_type": "stream",
     "text": [
      " 37%|███▋      | 228/619 [00:39<02:19,  2.80it/s, success=0, failed=228]"
     ]
    },
    {
     "name": "stdout",
     "output_type": "stream",
     "text": [
      "Error pushing sweb.eval.x86_64.pytorch__ignite-1349:latest: denied: requested access to the resource is denied\n"
     ]
    },
    {
     "name": "stderr",
     "output_type": "stream",
     "text": [
      " 37%|███▋      | 229/619 [00:42<02:35,  2.50it/s, success=0, failed=229]"
     ]
    },
    {
     "name": "stdout",
     "output_type": "stream",
     "text": [
      "Error pushing sweb.eval.x86_64.pytorch__ignite-1370:latest: denied: requested access to the resource is denied\n"
     ]
    },
    {
     "name": "stderr",
     "output_type": "stream",
     "text": [
      " 37%|███▋      | 230/619 [00:44<02:35,  2.50it/s, success=0, failed=230]"
     ]
    },
    {
     "name": "stdout",
     "output_type": "stream",
     "text": [
      "Error pushing sweb.eval.x86_64.nilearn__nilearn-2659:latest: denied: requested access to the resource is denied\n"
     ]
    },
    {
     "name": "stderr",
     "output_type": "stream",
     "text": [
      " 37%|███▋      | 231/619 [00:45<02:35,  2.50it/s, success=0, failed=231]"
     ]
    },
    {
     "name": "stdout",
     "output_type": "stream",
     "text": [
      "Error pushing sweb.eval.x86_64.nilearn__nilearn-2865:latest: denied: requested access to the resource is denied\n"
     ]
    },
    {
     "name": "stderr",
     "output_type": "stream",
     "text": [
      " 37%|███▋      | 232/619 [00:47<02:34,  2.50it/s, success=0, failed=232]"
     ]
    },
    {
     "name": "stdout",
     "output_type": "stream",
     "text": [
      "Error pushing sweb.eval.x86_64.nilearn__nilearn-3003:latest: denied: requested access to the resource is denied\n"
     ]
    },
    {
     "name": "stderr",
     "output_type": "stream",
     "text": [
      " 38%|███▊      | 233/619 [00:48<02:34,  2.50it/s, success=0, failed=233]"
     ]
    },
    {
     "name": "stdout",
     "output_type": "stream",
     "text": [
      "Error pushing sweb.eval.x86_64.nilearn__nilearn-3184:latest: denied: requested access to the resource is denied\n"
     ]
    },
    {
     "name": "stderr",
     "output_type": "stream",
     "text": [
      " 38%|███▊      | 234/619 [00:50<02:33,  2.50it/s, success=0, failed=234]"
     ]
    },
    {
     "name": "stdout",
     "output_type": "stream",
     "text": [
      "Error pushing sweb.eval.x86_64.nilearn__nilearn-3249:latest: denied: requested access to the resource is denied\n"
     ]
    },
    {
     "name": "stderr",
     "output_type": "stream",
     "text": [
      " 38%|███▊      | 235/619 [00:51<02:33,  2.50it/s, success=0, failed=235]"
     ]
    },
    {
     "name": "stdout",
     "output_type": "stream",
     "text": [
      "Error pushing sweb.eval.x86_64.nilearn__nilearn-3281:latest: denied: requested access to the resource is denied\n"
     ]
    },
    {
     "name": "stderr",
     "output_type": "stream",
     "text": [
      " 38%|███▊      | 236/619 [00:52<02:33,  2.50it/s, success=0, failed=236]"
     ]
    },
    {
     "name": "stdout",
     "output_type": "stream",
     "text": [
      "Error pushing sweb.eval.x86_64.nilearn__nilearn-3293:latest: denied: requested access to the resource is denied\n"
     ]
    },
    {
     "name": "stderr",
     "output_type": "stream",
     "text": [
      " 38%|███▊      | 237/619 [00:53<02:32,  2.50it/s, success=0, failed=237]"
     ]
    },
    {
     "name": "stdout",
     "output_type": "stream",
     "text": [
      "Error pushing sweb.eval.x86_64.nilearn__nilearn-3353:latest: denied: requested access to the resource is denied\n"
     ]
    },
    {
     "name": "stderr",
     "output_type": "stream",
     "text": [
      " 38%|███▊      | 238/619 [00:55<02:32,  2.50it/s, success=0, failed=238]"
     ]
    },
    {
     "name": "stdout",
     "output_type": "stream",
     "text": [
      "Error pushing sweb.eval.x86_64.nilearn__nilearn-3385:latest: denied: requested access to the resource is denied\n"
     ]
    },
    {
     "name": "stderr",
     "output_type": "stream",
     "text": [
      " 39%|███▊      | 239/619 [00:56<02:31,  2.50it/s, success=0, failed=239]"
     ]
    },
    {
     "name": "stdout",
     "output_type": "stream",
     "text": [
      "Error pushing sweb.eval.x86_64.nilearn__nilearn-3439:latest: denied: requested access to the resource is denied\n"
     ]
    },
    {
     "name": "stderr",
     "output_type": "stream",
     "text": [
      " 39%|███▉      | 240/619 [00:57<02:31,  2.50it/s, success=0, failed=240]"
     ]
    },
    {
     "name": "stdout",
     "output_type": "stream",
     "text": [
      "Error pushing sweb.eval.x86_64.nilearn__nilearn-3444:latest: denied: requested access to the resource is denied\n"
     ]
    },
    {
     "name": "stderr",
     "output_type": "stream",
     "text": [
      " 39%|███▉      | 241/619 [00:58<02:31,  2.50it/s, success=0, failed=241]"
     ]
    },
    {
     "name": "stdout",
     "output_type": "stream",
     "text": [
      "Error pushing sweb.eval.x86_64.nilearn__nilearn-3474:latest: denied: requested access to the resource is denied\n"
     ]
    },
    {
     "name": "stderr",
     "output_type": "stream",
     "text": [
      " 39%|███▉      | 242/619 [00:59<04:01,  1.56it/s, success=0, failed=242]"
     ]
    },
    {
     "name": "stdout",
     "output_type": "stream",
     "text": [
      "Error pushing sweb.eval.x86_64.pymodbus-dev__pymodbus-1486:latest: denied: requested access to the resource is denied\n"
     ]
    },
    {
     "name": "stderr",
     "output_type": "stream",
     "text": [
      " 39%|███▉      | 243/619 [01:00<04:05,  1.53it/s, success=0, failed=243]"
     ]
    },
    {
     "name": "stdout",
     "output_type": "stream",
     "text": [
      "Error pushing sweb.eval.x86_64.pymodbus-dev__pymodbus-1533:latest: denied: requested access to the resource is denied\n"
     ]
    },
    {
     "name": "stderr",
     "output_type": "stream",
     "text": [
      " 39%|███▉      | 244/619 [01:02<04:04,  1.53it/s, success=0, failed=244]"
     ]
    },
    {
     "name": "stdout",
     "output_type": "stream",
     "text": [
      "Error pushing sweb.eval.x86_64.pymodbus-dev__pymodbus-1547:latest: denied: requested access to the resource is denied\n"
     ]
    },
    {
     "name": "stderr",
     "output_type": "stream",
     "text": [
      " 40%|███▉      | 245/619 [01:03<04:03,  1.53it/s, success=0, failed=245]"
     ]
    },
    {
     "name": "stdout",
     "output_type": "stream",
     "text": [
      "Error pushing sweb.eval.x86_64.pymodbus-dev__pymodbus-1663:latest: denied: requested access to the resource is denied\n"
     ]
    },
    {
     "name": "stderr",
     "output_type": "stream",
     "text": [
      " 40%|███▉      | 246/619 [01:04<04:03,  1.53it/s, success=0, failed=246]"
     ]
    },
    {
     "name": "stdout",
     "output_type": "stream",
     "text": [
      "Error pushing sweb.eval.x86_64.pymodbus-dev__pymodbus-1925:latest: denied: requested access to the resource is denied\n"
     ]
    },
    {
     "name": "stderr",
     "output_type": "stream",
     "text": [
      " 40%|███▉      | 247/619 [01:06<04:02,  1.53it/s, success=0, failed=247]"
     ]
    },
    {
     "name": "stdout",
     "output_type": "stream",
     "text": [
      "Error pushing sweb.eval.x86_64.pymodbus-dev__pymodbus-1965:latest: denied: requested access to the resource is denied\n"
     ]
    },
    {
     "name": "stderr",
     "output_type": "stream",
     "text": [
      " 40%|████      | 248/619 [01:07<04:01,  1.53it/s, success=0, failed=248]"
     ]
    },
    {
     "name": "stdout",
     "output_type": "stream",
     "text": [
      "Error pushing sweb.eval.x86_64.pymodbus-dev__pymodbus-1987:latest: denied: requested access to the resource is denied\n"
     ]
    },
    {
     "name": "stderr",
     "output_type": "stream",
     "text": [
      " 40%|████      | 249/619 [01:08<04:01,  1.53it/s, success=0, failed=249]"
     ]
    },
    {
     "name": "stdout",
     "output_type": "stream",
     "text": [
      "Error pushing sweb.eval.x86_64.nipy__nipype-3637:latest: denied: requested access to the resource is denied\n"
     ]
    },
    {
     "name": "stderr",
     "output_type": "stream",
     "text": [
      " 40%|████      | 250/619 [01:11<04:00,  1.53it/s, success=0, failed=250]"
     ]
    },
    {
     "name": "stdout",
     "output_type": "stream",
     "text": [
      "Error pushing sweb.eval.x86_64.quantumlib__cirq-1669:latest: denied: requested access to the resource is denied\n"
     ]
    },
    {
     "name": "stderr",
     "output_type": "stream",
     "text": [
      " 41%|████      | 251/619 [01:13<03:59,  1.53it/s, success=0, failed=251]"
     ]
    },
    {
     "name": "stdout",
     "output_type": "stream",
     "text": [
      "Error pushing sweb.eval.x86_64.quantumlib__cirq-1674:latest: denied: requested access to the resource is denied\n"
     ]
    },
    {
     "name": "stderr",
     "output_type": "stream",
     "text": [
      " 41%|████      | 252/619 [01:14<03:59,  1.53it/s, success=0, failed=252]"
     ]
    },
    {
     "name": "stdout",
     "output_type": "stream",
     "text": [
      "Error pushing sweb.eval.x86_64.quantumlib__cirq-1714:latest: denied: requested access to the resource is denied\n"
     ]
    },
    {
     "name": "stderr",
     "output_type": "stream",
     "text": [
      " 41%|████      | 253/619 [01:16<03:58,  1.53it/s, success=0, failed=253]"
     ]
    },
    {
     "name": "stdout",
     "output_type": "stream",
     "text": [
      "Error pushing sweb.eval.x86_64.quantumlib__cirq-1794:latest: denied: requested access to the resource is denied\n"
     ]
    },
    {
     "name": "stderr",
     "output_type": "stream",
     "text": [
      " 41%|████      | 254/619 [01:17<03:57,  1.53it/s, success=0, failed=254]"
     ]
    },
    {
     "name": "stdout",
     "output_type": "stream",
     "text": [
      "Error pushing sweb.eval.x86_64.quantumlib__cirq-1896:latest: denied: requested access to the resource is denied\n"
     ]
    },
    {
     "name": "stderr",
     "output_type": "stream",
     "text": [
      " 41%|████      | 255/619 [01:19<03:57,  1.53it/s, success=0, failed=255]"
     ]
    },
    {
     "name": "stdout",
     "output_type": "stream",
     "text": [
      "Error pushing sweb.eval.x86_64.quantumlib__cirq-1902:latest: denied: requested access to the resource is denied\n"
     ]
    },
    {
     "name": "stderr",
     "output_type": "stream",
     "text": [
      " 41%|████▏     | 256/619 [01:20<05:38,  1.07it/s, success=0, failed=256]"
     ]
    },
    {
     "name": "stdout",
     "output_type": "stream",
     "text": [
      "Error pushing sweb.eval.x86_64.quantumlib__cirq-1929:latest: denied: requested access to the resource is denied\n"
     ]
    },
    {
     "name": "stderr",
     "output_type": "stream",
     "text": [
      " 42%|████▏     | 257/619 [01:21<05:42,  1.06it/s, success=0, failed=257]"
     ]
    },
    {
     "name": "stdout",
     "output_type": "stream",
     "text": [
      "Error pushing sweb.eval.x86_64.quantumlib__cirq-2016:latest: denied: requested access to the resource is denied\n"
     ]
    },
    {
     "name": "stderr",
     "output_type": "stream",
     "text": [
      " 42%|████▏     | 258/619 [01:22<05:41,  1.06it/s, success=0, failed=258]"
     ]
    },
    {
     "name": "stdout",
     "output_type": "stream",
     "text": [
      "Error pushing sweb.eval.x86_64.quantumlib__cirq-2109:latest: denied: requested access to the resource is denied\n"
     ]
    },
    {
     "name": "stderr",
     "output_type": "stream",
     "text": [
      " 42%|████▏     | 259/619 [01:24<05:40,  1.06it/s, success=0, failed=259]"
     ]
    },
    {
     "name": "stdout",
     "output_type": "stream",
     "text": [
      "Error pushing sweb.eval.x86_64.quantumlib__cirq-2132:latest: denied: requested access to the resource is denied\n"
     ]
    },
    {
     "name": "stderr",
     "output_type": "stream",
     "text": [
      " 42%|████▏     | 260/619 [01:26<05:39,  1.06it/s, success=0, failed=260]"
     ]
    },
    {
     "name": "stdout",
     "output_type": "stream",
     "text": [
      "Error pushing sweb.eval.x86_64.quantumlib__cirq-2141:latest: denied: requested access to the resource is denied\n"
     ]
    },
    {
     "name": "stderr",
     "output_type": "stream",
     "text": [
      " 42%|████▏     | 261/619 [01:28<05:38,  1.06it/s, success=0, failed=261]"
     ]
    },
    {
     "name": "stdout",
     "output_type": "stream",
     "text": [
      "Error pushing sweb.eval.x86_64.quantumlib__cirq-2149:latest: denied: requested access to the resource is denied\n"
     ]
    },
    {
     "name": "stderr",
     "output_type": "stream",
     "text": [
      " 42%|████▏     | 262/619 [01:30<05:37,  1.06it/s, success=0, failed=262]"
     ]
    },
    {
     "name": "stdout",
     "output_type": "stream",
     "text": [
      "Error pushing sweb.eval.x86_64.quantumlib__cirq-2158:latest: denied: requested access to the resource is denied\n"
     ]
    },
    {
     "name": "stderr",
     "output_type": "stream",
     "text": [
      " 42%|████▏     | 263/619 [01:31<05:36,  1.06it/s, success=0, failed=263]"
     ]
    },
    {
     "name": "stdout",
     "output_type": "stream",
     "text": [
      "Error pushing sweb.eval.x86_64.quantumlib__cirq-2177:latest: denied: requested access to the resource is denied\n"
     ]
    },
    {
     "name": "stderr",
     "output_type": "stream",
     "text": [
      " 43%|████▎     | 264/619 [01:33<05:35,  1.06it/s, success=0, failed=264]"
     ]
    },
    {
     "name": "stdout",
     "output_type": "stream",
     "text": [
      "Error pushing sweb.eval.x86_64.quantumlib__cirq-2181:latest: denied: requested access to the resource is denied\n"
     ]
    },
    {
     "name": "stderr",
     "output_type": "stream",
     "text": [
      " 43%|████▎     | 265/619 [01:34<05:34,  1.06it/s, success=0, failed=265]"
     ]
    },
    {
     "name": "stdout",
     "output_type": "stream",
     "text": [
      "Error pushing sweb.eval.x86_64.quantumlib__cirq-2189:latest: denied: requested access to the resource is denied\n"
     ]
    },
    {
     "name": "stderr",
     "output_type": "stream",
     "text": [
      " 43%|████▎     | 266/619 [01:36<05:33,  1.06it/s, success=0, failed=266]"
     ]
    },
    {
     "name": "stdout",
     "output_type": "stream",
     "text": [
      "Error pushing sweb.eval.x86_64.quantumlib__cirq-2223:latest: denied: requested access to the resource is denied\n"
     ]
    },
    {
     "name": "stderr",
     "output_type": "stream",
     "text": [
      " 43%|████▎     | 267/619 [01:37<06:50,  1.17s/it, success=0, failed=267]"
     ]
    },
    {
     "name": "stdout",
     "output_type": "stream",
     "text": [
      "Error pushing sweb.eval.x86_64.quantumlib__cirq-2227:latest: denied: requested access to the resource is denied\n"
     ]
    },
    {
     "name": "stderr",
     "output_type": "stream",
     "text": [
      " 43%|████▎     | 268/619 [01:38<06:50,  1.17s/it, success=0, failed=268]"
     ]
    },
    {
     "name": "stdout",
     "output_type": "stream",
     "text": [
      "Error pushing sweb.eval.x86_64.quantumlib__cirq-2241:latest: denied: requested access to the resource is denied\n"
     ]
    },
    {
     "name": "stderr",
     "output_type": "stream",
     "text": [
      " 43%|████▎     | 269/619 [01:40<06:49,  1.17s/it, success=0, failed=269]"
     ]
    },
    {
     "name": "stdout",
     "output_type": "stream",
     "text": [
      "Error pushing sweb.eval.x86_64.quantumlib__cirq-2253:latest: denied: requested access to the resource is denied\n"
     ]
    },
    {
     "name": "stderr",
     "output_type": "stream",
     "text": [
      " 44%|████▎     | 270/619 [01:41<06:48,  1.17s/it, success=0, failed=270]"
     ]
    },
    {
     "name": "stdout",
     "output_type": "stream",
     "text": [
      "Error pushing sweb.eval.x86_64.quantumlib__cirq-2911:latest: denied: requested access to the resource is denied\n"
     ]
    },
    {
     "name": "stderr",
     "output_type": "stream",
     "text": [
      " 44%|████▍     | 271/619 [01:42<06:47,  1.17s/it, success=0, failed=271]"
     ]
    },
    {
     "name": "stdout",
     "output_type": "stream",
     "text": [
      "Error pushing sweb.eval.x86_64.quantumlib__cirq-2952:latest: denied: requested access to the resource is denied\n"
     ]
    },
    {
     "name": "stderr",
     "output_type": "stream",
     "text": [
      " 44%|████▍     | 272/619 [01:44<06:46,  1.17s/it, success=0, failed=272]"
     ]
    },
    {
     "name": "stdout",
     "output_type": "stream",
     "text": [
      "Error pushing sweb.eval.x86_64.quantumlib__cirq-3015:latest: denied: requested access to the resource is denied\n"
     ]
    },
    {
     "name": "stderr",
     "output_type": "stream",
     "text": [
      " 44%|████▍     | 273/619 [01:45<06:44,  1.17s/it, success=0, failed=273]"
     ]
    },
    {
     "name": "stdout",
     "output_type": "stream",
     "text": [
      "Error pushing sweb.eval.x86_64.quantumlib__cirq-3054:latest: denied: requested access to the resource is denied\n"
     ]
    },
    {
     "name": "stderr",
     "output_type": "stream",
     "text": [
      " 44%|████▍     | 274/619 [01:47<06:43,  1.17s/it, success=0, failed=274]"
     ]
    },
    {
     "name": "stdout",
     "output_type": "stream",
     "text": [
      "Error pushing sweb.eval.x86_64.quantumlib__cirq-3357:latest: denied: requested access to the resource is denied\n"
     ]
    },
    {
     "name": "stderr",
     "output_type": "stream",
     "text": [
      " 44%|████▍     | 275/619 [01:48<07:04,  1.23s/it, success=0, failed=275]"
     ]
    },
    {
     "name": "stdout",
     "output_type": "stream",
     "text": [
      "Error pushing sweb.eval.x86_64.quantumlib__cirq-3414:latest: denied: requested access to the resource is denied\n"
     ]
    },
    {
     "name": "stderr",
     "output_type": "stream",
     "text": [
      " 45%|████▍     | 276/619 [01:49<07:02,  1.23s/it, success=0, failed=276]"
     ]
    },
    {
     "name": "stdout",
     "output_type": "stream",
     "text": [
      "Error pushing sweb.eval.x86_64.quantumlib__cirq-3543:latest: denied: requested access to the resource is denied\n"
     ]
    },
    {
     "name": "stderr",
     "output_type": "stream",
     "text": [
      " 45%|████▍     | 277/619 [01:50<07:01,  1.23s/it, success=0, failed=277]"
     ]
    },
    {
     "name": "stdout",
     "output_type": "stream",
     "text": [
      "Error pushing sweb.eval.x86_64.quantumlib__cirq-3618:latest: denied: requested access to the resource is denied\n"
     ]
    },
    {
     "name": "stderr",
     "output_type": "stream",
     "text": [
      " 45%|████▍     | 278/619 [01:52<07:00,  1.23s/it, success=0, failed=278]"
     ]
    },
    {
     "name": "stdout",
     "output_type": "stream",
     "text": [
      "Error pushing sweb.eval.x86_64.quantumlib__cirq-3637:latest: denied: requested access to the resource is denied\n"
     ]
    },
    {
     "name": "stderr",
     "output_type": "stream",
     "text": [
      " 45%|████▌     | 279/619 [01:53<06:59,  1.23s/it, success=0, failed=279]"
     ]
    },
    {
     "name": "stdout",
     "output_type": "stream",
     "text": [
      "Error pushing sweb.eval.x86_64.quantumlib__cirq-3719:latest: denied: requested access to the resource is denied\n"
     ]
    },
    {
     "name": "stderr",
     "output_type": "stream",
     "text": [
      " 45%|████▌     | 280/619 [01:54<06:59,  1.24s/it, success=0, failed=280]"
     ]
    },
    {
     "name": "stdout",
     "output_type": "stream",
     "text": [
      "Error pushing sweb.eval.x86_64.quantumlib__cirq-3745:latest: denied: requested access to the resource is denied\n"
     ]
    },
    {
     "name": "stderr",
     "output_type": "stream",
     "text": [
      " 45%|████▌     | 281/619 [01:57<06:57,  1.24s/it, success=0, failed=281]"
     ]
    },
    {
     "name": "stdout",
     "output_type": "stream",
     "text": [
      "Error pushing sweb.eval.x86_64.quantumlib__cirq-3791:latest: denied: requested access to the resource is denied\n"
     ]
    },
    {
     "name": "stderr",
     "output_type": "stream",
     "text": [
      " 46%|████▌     | 282/619 [01:58<06:56,  1.24s/it, success=0, failed=282]"
     ]
    },
    {
     "name": "stdout",
     "output_type": "stream",
     "text": [
      "Error pushing sweb.eval.x86_64.quantumlib__cirq-3829:latest: denied: requested access to the resource is denied\n"
     ]
    },
    {
     "name": "stderr",
     "output_type": "stream",
     "text": [
      " 46%|████▌     | 283/619 [02:00<06:55,  1.24s/it, success=0, failed=283]"
     ]
    },
    {
     "name": "stdout",
     "output_type": "stream",
     "text": [
      "Error pushing sweb.eval.x86_64.quantumlib__cirq-3845:latest: denied: requested access to the resource is denied\n"
     ]
    },
    {
     "name": "stderr",
     "output_type": "stream",
     "text": [
      " 46%|████▌     | 284/619 [02:01<07:31,  1.35s/it, success=0, failed=284]"
     ]
    },
    {
     "name": "stdout",
     "output_type": "stream",
     "text": [
      "Error pushing sweb.eval.x86_64.quantumlib__cirq-3983:latest: denied: requested access to the resource is denied\n"
     ]
    },
    {
     "name": "stderr",
     "output_type": "stream",
     "text": [
      " 46%|████▌     | 285/619 [02:02<07:29,  1.35s/it, success=0, failed=285]"
     ]
    },
    {
     "name": "stdout",
     "output_type": "stream",
     "text": [
      "Error pushing sweb.eval.x86_64.quantumlib__cirq-4003:latest: denied: requested access to the resource is denied\n"
     ]
    },
    {
     "name": "stderr",
     "output_type": "stream",
     "text": [
      " 46%|████▌     | 286/619 [02:04<07:28,  1.35s/it, success=0, failed=286]"
     ]
    },
    {
     "name": "stdout",
     "output_type": "stream",
     "text": [
      "Error pushing sweb.eval.x86_64.psf__black-2758:latest: denied: requested access to the resource is denied\n"
     ]
    },
    {
     "name": "stderr",
     "output_type": "stream",
     "text": [
      " 46%|████▋     | 287/619 [02:05<07:24,  1.34s/it, success=0, failed=287]"
     ]
    },
    {
     "name": "stdout",
     "output_type": "stream",
     "text": [
      "Error pushing sweb.eval.x86_64.psf__black-2919:latest: denied: requested access to the resource is denied\n"
     ]
    },
    {
     "name": "stderr",
     "output_type": "stream",
     "text": [
      " 47%|████▋     | 288/619 [02:06<07:22,  1.34s/it, success=0, failed=288]"
     ]
    },
    {
     "name": "stdout",
     "output_type": "stream",
     "text": [
      "Error pushing sweb.eval.x86_64.psf__black-2970:latest: denied: requested access to the resource is denied\n"
     ]
    },
    {
     "name": "stderr",
     "output_type": "stream",
     "text": [
      " 47%|████▋     | 289/619 [02:07<07:06,  1.29s/it, success=0, failed=289]"
     ]
    },
    {
     "name": "stdout",
     "output_type": "stream",
     "text": [
      "Error pushing sweb.eval.x86_64.psf__black-2991:latest: denied: requested access to the resource is denied\n"
     ]
    },
    {
     "name": "stderr",
     "output_type": "stream",
     "text": [
      " 47%|████▋     | 290/619 [02:09<07:04,  1.29s/it, success=0, failed=290]"
     ]
    },
    {
     "name": "stdout",
     "output_type": "stream",
     "text": [
      "Error pushing sweb.eval.x86_64.psf__black-3211:latest: denied: requested access to the resource is denied\n"
     ]
    },
    {
     "name": "stderr",
     "output_type": "stream",
     "text": [
      " 47%|████▋     | 291/619 [02:10<07:07,  1.30s/it, success=0, failed=291]"
     ]
    },
    {
     "name": "stdout",
     "output_type": "stream",
     "text": [
      "Error pushing sweb.eval.x86_64.psf__black-3215:latest: denied: requested access to the resource is denied\n"
     ]
    },
    {
     "name": "stderr",
     "output_type": "stream",
     "text": [
      " 47%|████▋     | 292/619 [02:11<07:07,  1.31s/it, success=0, failed=292]"
     ]
    },
    {
     "name": "stdout",
     "output_type": "stream",
     "text": [
      "Error pushing sweb.eval.x86_64.psf__black-3216:latest: denied: requested access to the resource is denied\n"
     ]
    },
    {
     "name": "stderr",
     "output_type": "stream",
     "text": [
      " 47%|████▋     | 293/619 [02:12<06:49,  1.26s/it, success=0, failed=293]"
     ]
    },
    {
     "name": "stdout",
     "output_type": "stream",
     "text": [
      "Error pushing sweb.eval.x86_64.pallets__click-123:latest: denied: requested access to the resource is denied\n"
     ]
    },
    {
     "name": "stderr",
     "output_type": "stream",
     "text": [
      " 47%|████▋     | 294/619 [02:13<06:34,  1.21s/it, success=0, failed=294]"
     ]
    },
    {
     "name": "stdout",
     "output_type": "stream",
     "text": [
      "Error pushing sweb.eval.x86_64.pallets__click-240:latest: denied: requested access to the resource is denied\n"
     ]
    },
    {
     "name": "stderr",
     "output_type": "stream",
     "text": [
      " 48%|████▊     | 295/619 [02:15<06:48,  1.26s/it, success=0, failed=295]"
     ]
    },
    {
     "name": "stdout",
     "output_type": "stream",
     "text": [
      "Error pushing sweb.eval.x86_64.pallets__click-552:latest: denied: requested access to the resource is denied\n"
     ]
    },
    {
     "name": "stderr",
     "output_type": "stream",
     "text": [
      " 48%|████▊     | 296/619 [02:16<06:47,  1.26s/it, success=0, failed=296]"
     ]
    },
    {
     "name": "stdout",
     "output_type": "stream",
     "text": [
      "Error pushing sweb.eval.x86_64.pallets__click-709:latest: denied: requested access to the resource is denied\n"
     ]
    },
    {
     "name": "stderr",
     "output_type": "stream",
     "text": [
      " 48%|████▊     | 297/619 [02:17<06:52,  1.28s/it, success=0, failed=297]"
     ]
    },
    {
     "name": "stdout",
     "output_type": "stream",
     "text": [
      "Error pushing sweb.eval.x86_64.pallets__click-774:latest: denied: requested access to the resource is denied\n"
     ]
    },
    {
     "name": "stderr",
     "output_type": "stream",
     "text": [
      " 48%|████▊     | 298/619 [02:18<06:50,  1.28s/it, success=0, failed=298]"
     ]
    },
    {
     "name": "stdout",
     "output_type": "stream",
     "text": [
      "Error pushing sweb.eval.x86_64.pallets__click-787:latest: denied: requested access to the resource is denied\n"
     ]
    },
    {
     "name": "stderr",
     "output_type": "stream",
     "text": [
      " 48%|████▊     | 299/619 [02:20<06:55,  1.30s/it, success=0, failed=299]"
     ]
    },
    {
     "name": "stdout",
     "output_type": "stream",
     "text": [
      "Error pushing sweb.eval.x86_64.pallets__click-794:latest: denied: requested access to the resource is denied\n"
     ]
    },
    {
     "name": "stderr",
     "output_type": "stream",
     "text": [
      " 48%|████▊     | 300/619 [02:21<06:53,  1.30s/it, success=0, failed=300]"
     ]
    },
    {
     "name": "stdout",
     "output_type": "stream",
     "text": [
      "Error pushing sweb.eval.x86_64.pallets__click-806:latest: denied: requested access to the resource is denied\n"
     ]
    },
    {
     "name": "stderr",
     "output_type": "stream",
     "text": [
      " 49%|████▊     | 301/619 [02:22<06:55,  1.31s/it, success=0, failed=301]"
     ]
    },
    {
     "name": "stdout",
     "output_type": "stream",
     "text": [
      "Error pushing sweb.eval.x86_64.pallets__click-865:latest: denied: requested access to the resource is denied\n"
     ]
    },
    {
     "name": "stderr",
     "output_type": "stream",
     "text": [
      " 49%|████▉     | 302/619 [02:24<06:54,  1.31s/it, success=0, failed=302]"
     ]
    },
    {
     "name": "stdout",
     "output_type": "stream",
     "text": [
      "Error pushing sweb.eval.x86_64.pallets__click-869:latest: denied: requested access to the resource is denied\n"
     ]
    },
    {
     "name": "stderr",
     "output_type": "stream",
     "text": [
      " 49%|████▉     | 303/619 [02:25<06:47,  1.29s/it, success=0, failed=303]"
     ]
    },
    {
     "name": "stdout",
     "output_type": "stream",
     "text": [
      "Error pushing sweb.eval.x86_64.pallets__click-887:latest: denied: requested access to the resource is denied\n"
     ]
    },
    {
     "name": "stderr",
     "output_type": "stream",
     "text": [
      " 49%|████▉     | 304/619 [02:26<06:50,  1.30s/it, success=0, failed=304]"
     ]
    },
    {
     "name": "stdout",
     "output_type": "stream",
     "text": [
      "Error pushing sweb.eval.x86_64.pallets__click-889:latest: denied: requested access to the resource is denied\n"
     ]
    },
    {
     "name": "stderr",
     "output_type": "stream",
     "text": [
      " 49%|████▉     | 305/619 [02:28<06:46,  1.30s/it, success=0, failed=305]"
     ]
    },
    {
     "name": "stdout",
     "output_type": "stream",
     "text": [
      "Error pushing sweb.eval.x86_64.pallets__click-930:latest: denied: requested access to the resource is denied\n"
     ]
    },
    {
     "name": "stderr",
     "output_type": "stream",
     "text": [
      " 49%|████▉     | 306/619 [02:29<06:38,  1.27s/it, success=0, failed=306]"
     ]
    },
    {
     "name": "stdout",
     "output_type": "stream",
     "text": [
      "Error pushing sweb.eval.x86_64.pallets__click-996:latest: denied: requested access to the resource is denied\n"
     ]
    },
    {
     "name": "stderr",
     "output_type": "stream",
     "text": [
      " 50%|████▉     | 307/619 [02:30<06:41,  1.29s/it, success=0, failed=307]"
     ]
    },
    {
     "name": "stdout",
     "output_type": "stream",
     "text": [
      "Error pushing sweb.eval.x86_64.pallets__click-1014:latest: denied: requested access to the resource is denied\n"
     ]
    },
    {
     "name": "stderr",
     "output_type": "stream",
     "text": [
      " 50%|████▉     | 308/619 [02:31<06:39,  1.28s/it, success=0, failed=308]"
     ]
    },
    {
     "name": "stdout",
     "output_type": "stream",
     "text": [
      "Error pushing sweb.eval.x86_64.pallets__click-1061:latest: denied: requested access to the resource is denied\n"
     ]
    },
    {
     "name": "stderr",
     "output_type": "stream",
     "text": [
      " 50%|████▉     | 309/619 [02:33<06:42,  1.30s/it, success=0, failed=309]"
     ]
    },
    {
     "name": "stdout",
     "output_type": "stream",
     "text": [
      "Error pushing sweb.eval.x86_64.pallets__click-1081:latest: denied: requested access to the resource is denied\n"
     ]
    },
    {
     "name": "stderr",
     "output_type": "stream",
     "text": [
      " 50%|█████     | 310/619 [02:34<06:30,  1.26s/it, success=0, failed=310]"
     ]
    },
    {
     "name": "stdout",
     "output_type": "stream",
     "text": [
      "Error pushing sweb.eval.x86_64.pallets__click-1091:latest: denied: requested access to the resource is denied\n"
     ]
    },
    {
     "name": "stderr",
     "output_type": "stream",
     "text": [
      " 50%|█████     | 311/619 [02:35<06:34,  1.28s/it, success=0, failed=311]"
     ]
    },
    {
     "name": "stdout",
     "output_type": "stream",
     "text": [
      "Error pushing sweb.eval.x86_64.pallets__click-1098:latest: denied: requested access to the resource is denied\n"
     ]
    },
    {
     "name": "stderr",
     "output_type": "stream",
     "text": [
      " 50%|█████     | 312/619 [02:36<06:28,  1.27s/it, success=0, failed=312]"
     ]
    },
    {
     "name": "stdout",
     "output_type": "stream",
     "text": [
      "Error pushing sweb.eval.x86_64.pallets__click-1099:latest: denied: requested access to the resource is denied\n"
     ]
    },
    {
     "name": "stderr",
     "output_type": "stream",
     "text": [
      " 51%|█████     | 313/619 [02:38<06:27,  1.27s/it, success=0, failed=313]"
     ]
    },
    {
     "name": "stdout",
     "output_type": "stream",
     "text": [
      "Error pushing sweb.eval.x86_64.pallets__click-1142:latest: denied: requested access to the resource is denied\n"
     ]
    },
    {
     "name": "stderr",
     "output_type": "stream",
     "text": [
      " 51%|█████     | 314/619 [02:39<06:22,  1.26s/it, success=0, failed=314]"
     ]
    },
    {
     "name": "stdout",
     "output_type": "stream",
     "text": [
      "Error pushing sweb.eval.x86_64.pallets__click-1163:latest: denied: requested access to the resource is denied\n"
     ]
    },
    {
     "name": "stderr",
     "output_type": "stream",
     "text": [
      " 51%|█████     | 315/619 [02:40<06:23,  1.26s/it, success=0, failed=315]"
     ]
    },
    {
     "name": "stdout",
     "output_type": "stream",
     "text": [
      "Error pushing sweb.eval.x86_64.pallets__click-1167:latest: denied: requested access to the resource is denied\n"
     ]
    },
    {
     "name": "stderr",
     "output_type": "stream",
     "text": [
      " 51%|█████     | 316/619 [02:42<06:24,  1.27s/it, success=0, failed=316]"
     ]
    },
    {
     "name": "stdout",
     "output_type": "stream",
     "text": [
      "Error pushing sweb.eval.x86_64.pallets__click-1186:latest: denied: requested access to the resource is denied\n"
     ]
    },
    {
     "name": "stderr",
     "output_type": "stream",
     "text": [
      " 51%|█████     | 317/619 [02:43<06:20,  1.26s/it, success=0, failed=317]"
     ]
    },
    {
     "name": "stdout",
     "output_type": "stream",
     "text": [
      "Error pushing sweb.eval.x86_64.pallets__click-1191:latest: denied: requested access to the resource is denied\n"
     ]
    },
    {
     "name": "stderr",
     "output_type": "stream",
     "text": [
      " 51%|█████▏    | 318/619 [02:44<06:25,  1.28s/it, success=0, failed=318]"
     ]
    },
    {
     "name": "stdout",
     "output_type": "stream",
     "text": [
      "Error pushing sweb.eval.x86_64.pallets__click-1261:latest: denied: requested access to the resource is denied\n"
     ]
    },
    {
     "name": "stderr",
     "output_type": "stream",
     "text": [
      " 52%|█████▏    | 319/619 [02:47<08:18,  1.66s/it, success=0, failed=319]"
     ]
    },
    {
     "name": "stdout",
     "output_type": "stream",
     "text": [
      "Error pushing sweb.eval.x86_64.pallets__click-1273:latest: denied: requested access to the resource is denied\n"
     ]
    },
    {
     "name": "stderr",
     "output_type": "stream",
     "text": [
      " 52%|█████▏    | 320/619 [02:48<07:45,  1.56s/it, success=0, failed=320]"
     ]
    },
    {
     "name": "stdout",
     "output_type": "stream",
     "text": [
      "Error pushing sweb.eval.x86_64.pallets__click-1295:latest: denied: requested access to the resource is denied\n"
     ]
    },
    {
     "name": "stderr",
     "output_type": "stream",
     "text": [
      " 52%|█████▏    | 321/619 [02:49<07:16,  1.47s/it, success=0, failed=321]"
     ]
    },
    {
     "name": "stdout",
     "output_type": "stream",
     "text": [
      "Error pushing sweb.eval.x86_64.pallets__click-1301:latest: denied: requested access to the resource is denied\n"
     ]
    },
    {
     "name": "stderr",
     "output_type": "stream",
     "text": [
      " 52%|█████▏    | 322/619 [02:52<08:55,  1.80s/it, success=0, failed=322]"
     ]
    },
    {
     "name": "stdout",
     "output_type": "stream",
     "text": [
      "Error pushing sweb.eval.x86_64.pallets__click-1304:latest: denied: requested access to the resource is denied\n"
     ]
    },
    {
     "name": "stderr",
     "output_type": "stream",
     "text": [
      " 52%|█████▏    | 323/619 [02:53<07:42,  1.56s/it, success=0, failed=323]"
     ]
    },
    {
     "name": "stdout",
     "output_type": "stream",
     "text": [
      "Error pushing sweb.eval.x86_64.pallets__click-1306:latest: denied: requested access to the resource is denied\n"
     ]
    },
    {
     "name": "stderr",
     "output_type": "stream",
     "text": [
      " 52%|█████▏    | 324/619 [02:55<09:08,  1.86s/it, success=0, failed=324]"
     ]
    },
    {
     "name": "stdout",
     "output_type": "stream",
     "text": [
      "Error pushing sweb.eval.x86_64.pallets__click-1309:latest: denied: requested access to the resource is denied\n"
     ]
    },
    {
     "name": "stderr",
     "output_type": "stream",
     "text": [
      " 53%|█████▎    | 325/619 [02:57<08:26,  1.72s/it, success=0, failed=325]"
     ]
    },
    {
     "name": "stdout",
     "output_type": "stream",
     "text": [
      "Error pushing sweb.eval.x86_64.pallets__click-1318:latest: denied: requested access to the resource is denied\n"
     ]
    },
    {
     "name": "stderr",
     "output_type": "stream",
     "text": [
      " 53%|█████▎    | 326/619 [02:58<08:11,  1.68s/it, success=0, failed=326]"
     ]
    },
    {
     "name": "stdout",
     "output_type": "stream",
     "text": [
      "Error pushing sweb.eval.x86_64.pallets__click-1329:latest: denied: requested access to the resource is denied\n"
     ]
    },
    {
     "name": "stderr",
     "output_type": "stream",
     "text": [
      " 53%|█████▎    | 327/619 [03:00<07:50,  1.61s/it, success=0, failed=327]"
     ]
    },
    {
     "name": "stdout",
     "output_type": "stream",
     "text": [
      "Error pushing sweb.eval.x86_64.pallets__click-1332:latest: denied: requested access to the resource is denied\n"
     ]
    },
    {
     "name": "stderr",
     "output_type": "stream",
     "text": [
      " 53%|█████▎    | 328/619 [03:01<07:16,  1.50s/it, success=0, failed=328]"
     ]
    },
    {
     "name": "stdout",
     "output_type": "stream",
     "text": [
      "Error pushing sweb.eval.x86_64.pallets__click-1400:latest: denied: requested access to the resource is denied\n"
     ]
    },
    {
     "name": "stderr",
     "output_type": "stream",
     "text": [
      " 53%|█████▎    | 329/619 [03:02<06:51,  1.42s/it, success=0, failed=329]"
     ]
    },
    {
     "name": "stdout",
     "output_type": "stream",
     "text": [
      "Error pushing sweb.eval.x86_64.pallets__click-1402:latest: denied: requested access to the resource is denied\n"
     ]
    },
    {
     "name": "stderr",
     "output_type": "stream",
     "text": [
      " 53%|█████▎    | 330/619 [03:04<06:39,  1.38s/it, success=0, failed=330]"
     ]
    },
    {
     "name": "stdout",
     "output_type": "stream",
     "text": [
      "Error pushing sweb.eval.x86_64.pallets__click-1455:latest: denied: requested access to the resource is denied\n"
     ]
    },
    {
     "name": "stderr",
     "output_type": "stream",
     "text": [
      " 53%|█████▎    | 331/619 [03:05<06:30,  1.36s/it, success=0, failed=331]"
     ]
    },
    {
     "name": "stdout",
     "output_type": "stream",
     "text": [
      "Error pushing sweb.eval.x86_64.pallets__click-1478:latest: denied: requested access to the resource is denied\n"
     ]
    },
    {
     "name": "stderr",
     "output_type": "stream",
     "text": [
      " 54%|█████▎    | 332/619 [03:07<08:08,  1.70s/it, success=0, failed=332]"
     ]
    },
    {
     "name": "stdout",
     "output_type": "stream",
     "text": [
      "Error pushing sweb.eval.x86_64.pallets__click-1481:latest: denied: requested access to the resource is denied\n"
     ]
    },
    {
     "name": "stderr",
     "output_type": "stream",
     "text": [
      " 54%|█████▍    | 333/619 [03:09<07:26,  1.56s/it, success=0, failed=333]"
     ]
    },
    {
     "name": "stdout",
     "output_type": "stream",
     "text": [
      "Error pushing sweb.eval.x86_64.pallets__click-1543:latest: denied: requested access to the resource is denied\n"
     ]
    },
    {
     "name": "stderr",
     "output_type": "stream",
     "text": [
      " 54%|█████▍    | 334/619 [03:10<07:06,  1.50s/it, success=0, failed=334]"
     ]
    },
    {
     "name": "stdout",
     "output_type": "stream",
     "text": [
      "Error pushing sweb.eval.x86_64.pallets__click-1549:latest: denied: requested access to the resource is denied\n"
     ]
    },
    {
     "name": "stderr",
     "output_type": "stream",
     "text": [
      " 54%|█████▍    | 335/619 [03:11<06:42,  1.42s/it, success=0, failed=335]"
     ]
    },
    {
     "name": "stdout",
     "output_type": "stream",
     "text": [
      "Error pushing sweb.eval.x86_64.pallets__click-1566:latest: denied: requested access to the resource is denied\n"
     ]
    },
    {
     "name": "stderr",
     "output_type": "stream",
     "text": [
      " 54%|█████▍    | 336/619 [03:14<08:14,  1.75s/it, success=0, failed=336]"
     ]
    },
    {
     "name": "stdout",
     "output_type": "stream",
     "text": [
      "Error pushing sweb.eval.x86_64.pallets__click-1594:latest: denied: requested access to the resource is denied\n"
     ]
    },
    {
     "name": "stderr",
     "output_type": "stream",
     "text": [
      " 54%|█████▍    | 337/619 [03:15<07:28,  1.59s/it, success=0, failed=337]"
     ]
    },
    {
     "name": "stdout",
     "output_type": "stream",
     "text": [
      "Error pushing sweb.eval.x86_64.pallets__click-1606:latest: denied: requested access to the resource is denied\n"
     ]
    },
    {
     "name": "stderr",
     "output_type": "stream",
     "text": [
      " 55%|█████▍    | 338/619 [03:16<07:07,  1.52s/it, success=0, failed=338]"
     ]
    },
    {
     "name": "stdout",
     "output_type": "stream",
     "text": [
      "Error pushing sweb.eval.x86_64.pallets__click-1609:latest: denied: requested access to the resource is denied\n"
     ]
    },
    {
     "name": "stderr",
     "output_type": "stream",
     "text": [
      " 55%|█████▍    | 339/619 [03:18<06:45,  1.45s/it, success=0, failed=339]"
     ]
    },
    {
     "name": "stdout",
     "output_type": "stream",
     "text": [
      "Error pushing sweb.eval.x86_64.pallets__click-1615:latest: denied: requested access to the resource is denied\n"
     ]
    },
    {
     "name": "stderr",
     "output_type": "stream",
     "text": [
      " 55%|█████▍    | 340/619 [03:19<06:30,  1.40s/it, success=0, failed=340]"
     ]
    },
    {
     "name": "stdout",
     "output_type": "stream",
     "text": [
      "Error pushing sweb.eval.x86_64.pallets__click-1617:latest: denied: requested access to the resource is denied\n"
     ]
    },
    {
     "name": "stderr",
     "output_type": "stream",
     "text": [
      " 55%|█████▌    | 341/619 [03:21<08:09,  1.76s/it, success=0, failed=341]"
     ]
    },
    {
     "name": "stdout",
     "output_type": "stream",
     "text": [
      "Error pushing sweb.eval.x86_64.pallets__click-1618:latest: denied: requested access to the resource is denied\n"
     ]
    },
    {
     "name": "stderr",
     "output_type": "stream",
     "text": [
      " 55%|█████▌    | 342/619 [03:23<07:31,  1.63s/it, success=0, failed=342]"
     ]
    },
    {
     "name": "stdout",
     "output_type": "stream",
     "text": [
      "Error pushing sweb.eval.x86_64.pallets__click-1621:latest: denied: requested access to the resource is denied\n"
     ]
    },
    {
     "name": "stderr",
     "output_type": "stream",
     "text": [
      " 55%|█████▌    | 343/619 [03:24<07:01,  1.53s/it, success=0, failed=343]"
     ]
    },
    {
     "name": "stdout",
     "output_type": "stream",
     "text": [
      "Error pushing sweb.eval.x86_64.pallets__click-1623:latest: denied: requested access to the resource is denied\n"
     ]
    },
    {
     "name": "stderr",
     "output_type": "stream",
     "text": [
      " 56%|█████▌    | 344/619 [03:25<06:38,  1.45s/it, success=0, failed=344]"
     ]
    },
    {
     "name": "stdout",
     "output_type": "stream",
     "text": [
      "Error pushing sweb.eval.x86_64.pallets__click-1630:latest: denied: requested access to the resource is denied\n"
     ]
    },
    {
     "name": "stderr",
     "output_type": "stream",
     "text": [
      " 56%|█████▌    | 345/619 [03:27<06:18,  1.38s/it, success=0, failed=345]"
     ]
    },
    {
     "name": "stdout",
     "output_type": "stream",
     "text": [
      "Error pushing sweb.eval.x86_64.pallets__click-1679:latest: denied: requested access to the resource is denied\n"
     ]
    },
    {
     "name": "stderr",
     "output_type": "stream",
     "text": [
      " 56%|█████▌    | 346/619 [03:28<06:22,  1.40s/it, success=0, failed=346]"
     ]
    },
    {
     "name": "stdout",
     "output_type": "stream",
     "text": [
      "Error pushing sweb.eval.x86_64.pallets__click-1693:latest: denied: requested access to the resource is denied\n"
     ]
    },
    {
     "name": "stderr",
     "output_type": "stream",
     "text": [
      " 56%|█████▌    | 347/619 [03:29<06:18,  1.39s/it, success=0, failed=347]"
     ]
    },
    {
     "name": "stdout",
     "output_type": "stream",
     "text": [
      "Error pushing sweb.eval.x86_64.pallets__click-1695:latest: denied: requested access to the resource is denied\n"
     ]
    },
    {
     "name": "stderr",
     "output_type": "stream",
     "text": [
      " 56%|█████▌    | 348/619 [03:31<06:08,  1.36s/it, success=0, failed=348]"
     ]
    },
    {
     "name": "stdout",
     "output_type": "stream",
     "text": [
      "Error pushing sweb.eval.x86_64.pallets__click-1698:latest: denied: requested access to the resource is denied\n"
     ]
    },
    {
     "name": "stderr",
     "output_type": "stream",
     "text": [
      " 56%|█████▋    | 349/619 [03:32<05:55,  1.32s/it, success=0, failed=349]"
     ]
    },
    {
     "name": "stdout",
     "output_type": "stream",
     "text": [
      "Error pushing sweb.eval.x86_64.pallets__click-1709:latest: denied: requested access to the resource is denied\n"
     ]
    },
    {
     "name": "stderr",
     "output_type": "stream",
     "text": [
      " 57%|█████▋    | 350/619 [03:33<05:45,  1.29s/it, success=0, failed=350]"
     ]
    },
    {
     "name": "stdout",
     "output_type": "stream",
     "text": [
      "Error pushing sweb.eval.x86_64.pallets__click-1755:latest: denied: requested access to the resource is denied\n"
     ]
    },
    {
     "name": "stderr",
     "output_type": "stream",
     "text": [
      " 57%|█████▋    | 351/619 [03:34<05:43,  1.28s/it, success=0, failed=351]"
     ]
    },
    {
     "name": "stdout",
     "output_type": "stream",
     "text": [
      "Error pushing sweb.eval.x86_64.pallets__click-1796:latest: denied: requested access to the resource is denied\n"
     ]
    },
    {
     "name": "stderr",
     "output_type": "stream",
     "text": [
      " 57%|█████▋    | 352/619 [03:37<07:45,  1.74s/it, success=0, failed=352]"
     ]
    },
    {
     "name": "stdout",
     "output_type": "stream",
     "text": [
      "Error pushing sweb.eval.x86_64.pallets__click-1803:latest: denied: requested access to the resource is denied\n"
     ]
    },
    {
     "name": "stderr",
     "output_type": "stream",
     "text": [
      " 57%|█████▋    | 353/619 [03:38<06:48,  1.54s/it, success=0, failed=353]"
     ]
    },
    {
     "name": "stdout",
     "output_type": "stream",
     "text": [
      "Error pushing sweb.eval.x86_64.pallets__click-1804:latest: denied: requested access to the resource is denied\n"
     ]
    },
    {
     "name": "stderr",
     "output_type": "stream",
     "text": [
      " 57%|█████▋    | 354/619 [03:39<06:04,  1.38s/it, success=0, failed=354]"
     ]
    },
    {
     "name": "stdout",
     "output_type": "stream",
     "text": [
      "Error pushing sweb.eval.x86_64.pallets__click-1805:latest: denied: requested access to the resource is denied\n"
     ]
    },
    {
     "name": "stderr",
     "output_type": "stream",
     "text": [
      " 57%|█████▋    | 355/619 [03:41<06:02,  1.37s/it, success=0, failed=355]"
     ]
    },
    {
     "name": "stdout",
     "output_type": "stream",
     "text": [
      "Error pushing sweb.eval.x86_64.pallets__click-1816:latest: denied: requested access to the resource is denied\n"
     ]
    },
    {
     "name": "stderr",
     "output_type": "stream",
     "text": [
      " 58%|█████▊    | 356/619 [03:43<07:28,  1.71s/it, success=0, failed=356]"
     ]
    },
    {
     "name": "stdout",
     "output_type": "stream",
     "text": [
      "Error pushing sweb.eval.x86_64.pallets__click-1822:latest: denied: requested access to the resource is denied\n"
     ]
    },
    {
     "name": "stderr",
     "output_type": "stream",
     "text": [
      " 58%|█████▊    | 357/619 [03:44<06:50,  1.57s/it, success=0, failed=357]"
     ]
    },
    {
     "name": "stdout",
     "output_type": "stream",
     "text": [
      "Error pushing sweb.eval.x86_64.pallets__click-1830:latest: denied: requested access to the resource is denied\n"
     ]
    },
    {
     "name": "stderr",
     "output_type": "stream",
     "text": [
      " 58%|█████▊    | 358/619 [03:46<06:33,  1.51s/it, success=0, failed=358]"
     ]
    },
    {
     "name": "stdout",
     "output_type": "stream",
     "text": [
      "Error pushing sweb.eval.x86_64.pallets__click-1836:latest: denied: requested access to the resource is denied\n"
     ]
    },
    {
     "name": "stderr",
     "output_type": "stream",
     "text": [
      " 58%|█████▊    | 359/619 [03:48<07:52,  1.82s/it, success=0, failed=359]"
     ]
    },
    {
     "name": "stdout",
     "output_type": "stream",
     "text": [
      "Error pushing sweb.eval.x86_64.pallets__click-1840:latest: denied: requested access to the resource is denied\n"
     ]
    },
    {
     "name": "stderr",
     "output_type": "stream",
     "text": [
      " 58%|█████▊    | 360/619 [03:51<08:52,  2.06s/it, success=0, failed=360]"
     ]
    },
    {
     "name": "stdout",
     "output_type": "stream",
     "text": [
      "Error pushing sweb.eval.x86_64.pallets__click-1848:latest: denied: requested access to the resource is denied\n"
     ]
    },
    {
     "name": "stderr",
     "output_type": "stream",
     "text": [
      " 58%|█████▊    | 361/619 [03:52<08:08,  1.89s/it, success=0, failed=361]"
     ]
    },
    {
     "name": "stdout",
     "output_type": "stream",
     "text": [
      "Error pushing sweb.eval.x86_64.pallets__click-1850:latest: denied: requested access to the resource is denied\n"
     ]
    },
    {
     "name": "stderr",
     "output_type": "stream",
     "text": [
      " 58%|█████▊    | 362/619 [03:53<07:05,  1.66s/it, success=0, failed=362]"
     ]
    },
    {
     "name": "stdout",
     "output_type": "stream",
     "text": [
      "Error pushing sweb.eval.x86_64.pallets__click-1872:latest: denied: requested access to the resource is denied\n"
     ]
    },
    {
     "name": "stderr",
     "output_type": "stream",
     "text": [
      " 59%|█████▊    | 363/619 [03:55<06:31,  1.53s/it, success=0, failed=363]"
     ]
    },
    {
     "name": "stdout",
     "output_type": "stream",
     "text": [
      "Error pushing sweb.eval.x86_64.pallets__click-1896:latest: denied: requested access to the resource is denied\n"
     ]
    },
    {
     "name": "stderr",
     "output_type": "stream",
     "text": [
      " 59%|█████▉    | 364/619 [03:56<06:09,  1.45s/it, success=0, failed=364]"
     ]
    },
    {
     "name": "stdout",
     "output_type": "stream",
     "text": [
      "Error pushing sweb.eval.x86_64.pallets__click-1913:latest: denied: requested access to the resource is denied\n"
     ]
    },
    {
     "name": "stderr",
     "output_type": "stream",
     "text": [
      " 59%|█████▉    | 365/619 [03:57<05:55,  1.40s/it, success=0, failed=365]"
     ]
    },
    {
     "name": "stdout",
     "output_type": "stream",
     "text": [
      "Error pushing sweb.eval.x86_64.pallets__click-1915:latest: denied: requested access to the resource is denied\n"
     ]
    },
    {
     "name": "stderr",
     "output_type": "stream",
     "text": [
      " 59%|█████▉    | 366/619 [03:59<05:47,  1.37s/it, success=0, failed=366]"
     ]
    },
    {
     "name": "stdout",
     "output_type": "stream",
     "text": [
      "Error pushing sweb.eval.x86_64.pallets__click-1916:latest: denied: requested access to the resource is denied\n"
     ]
    },
    {
     "name": "stderr",
     "output_type": "stream",
     "text": [
      " 59%|█████▉    | 367/619 [04:01<07:25,  1.77s/it, success=0, failed=367]"
     ]
    },
    {
     "name": "stdout",
     "output_type": "stream",
     "text": [
      "Error pushing sweb.eval.x86_64.pallets__click-1930:latest: denied: requested access to the resource is denied\n"
     ]
    },
    {
     "name": "stderr",
     "output_type": "stream",
     "text": [
      " 59%|█████▉    | 368/619 [04:03<06:47,  1.62s/it, success=0, failed=368]"
     ]
    },
    {
     "name": "stdout",
     "output_type": "stream",
     "text": [
      "Error pushing sweb.eval.x86_64.pallets__click-1934:latest: denied: requested access to the resource is denied\n"
     ]
    },
    {
     "name": "stderr",
     "output_type": "stream",
     "text": [
      " 60%|█████▉    | 369/619 [04:04<06:02,  1.45s/it, success=0, failed=369]"
     ]
    },
    {
     "name": "stdout",
     "output_type": "stream",
     "text": [
      "Error pushing sweb.eval.x86_64.pallets__click-1964:latest: denied: requested access to the resource is denied\n"
     ]
    },
    {
     "name": "stderr",
     "output_type": "stream",
     "text": [
      " 60%|█████▉    | 370/619 [04:05<05:46,  1.39s/it, success=0, failed=370]"
     ]
    },
    {
     "name": "stdout",
     "output_type": "stream",
     "text": [
      "Error pushing sweb.eval.x86_64.pallets__click-1970:latest: denied: requested access to the resource is denied\n"
     ]
    },
    {
     "name": "stderr",
     "output_type": "stream",
     "text": [
      " 60%|█████▉    | 371/619 [04:06<05:55,  1.44s/it, success=0, failed=371]"
     ]
    },
    {
     "name": "stdout",
     "output_type": "stream",
     "text": [
      "Error pushing sweb.eval.x86_64.pallets__click-1990:latest: denied: requested access to the resource is denied\n"
     ]
    },
    {
     "name": "stderr",
     "output_type": "stream",
     "text": [
      " 60%|██████    | 372/619 [04:08<05:45,  1.40s/it, success=0, failed=372]"
     ]
    },
    {
     "name": "stdout",
     "output_type": "stream",
     "text": [
      "Error pushing sweb.eval.x86_64.pallets__click-1998:latest: denied: requested access to the resource is denied\n"
     ]
    },
    {
     "name": "stderr",
     "output_type": "stream",
     "text": [
      " 60%|██████    | 373/619 [04:09<05:37,  1.37s/it, success=0, failed=373]"
     ]
    },
    {
     "name": "stdout",
     "output_type": "stream",
     "text": [
      "Error pushing sweb.eval.x86_64.pallets__click-2004:latest: denied: requested access to the resource is denied\n"
     ]
    },
    {
     "name": "stderr",
     "output_type": "stream",
     "text": [
      " 60%|██████    | 374/619 [04:11<05:45,  1.41s/it, success=0, failed=374]"
     ]
    },
    {
     "name": "stdout",
     "output_type": "stream",
     "text": [
      "Error pushing sweb.eval.x86_64.pallets__click-2006:latest: denied: requested access to the resource is denied\n"
     ]
    },
    {
     "name": "stderr",
     "output_type": "stream",
     "text": [
      " 61%|██████    | 375/619 [04:12<05:35,  1.37s/it, success=0, failed=375]"
     ]
    },
    {
     "name": "stdout",
     "output_type": "stream",
     "text": [
      "Error pushing sweb.eval.x86_64.pallets__click-2041:latest: denied: requested access to the resource is denied\n"
     ]
    },
    {
     "name": "stderr",
     "output_type": "stream",
     "text": [
      " 61%|██████    | 376/619 [04:13<05:23,  1.33s/it, success=0, failed=376]"
     ]
    },
    {
     "name": "stdout",
     "output_type": "stream",
     "text": [
      "Error pushing sweb.eval.x86_64.pallets__click-2084:latest: denied: requested access to the resource is denied\n"
     ]
    },
    {
     "name": "stderr",
     "output_type": "stream",
     "text": [
      " 61%|██████    | 377/619 [04:14<05:23,  1.34s/it, success=0, failed=377]"
     ]
    },
    {
     "name": "stdout",
     "output_type": "stream",
     "text": [
      "Error pushing sweb.eval.x86_64.pallets__click-2086:latest: denied: requested access to the resource is denied\n"
     ]
    },
    {
     "name": "stderr",
     "output_type": "stream",
     "text": [
      " 61%|██████    | 378/619 [04:16<05:10,  1.29s/it, success=0, failed=378]"
     ]
    },
    {
     "name": "stdout",
     "output_type": "stream",
     "text": [
      "Error pushing sweb.eval.x86_64.pallets__click-2093:latest: denied: requested access to the resource is denied\n"
     ]
    },
    {
     "name": "stderr",
     "output_type": "stream",
     "text": [
      " 61%|██████    | 379/619 [04:17<05:12,  1.30s/it, success=0, failed=379]"
     ]
    },
    {
     "name": "stdout",
     "output_type": "stream",
     "text": [
      "Error pushing sweb.eval.x86_64.pallets__click-2094:latest: denied: requested access to the resource is denied\n"
     ]
    },
    {
     "name": "stderr",
     "output_type": "stream",
     "text": [
      " 61%|██████▏   | 380/619 [04:18<05:10,  1.30s/it, success=0, failed=380]"
     ]
    }
   ],
   "source": [
    "# Push images for validated instances\n",
    "push_validated_instances_images(validated_instances)"
   ]
  }
 ],
 "metadata": {
  "kernelspec": {
   "display_name": "base",
   "language": "python",
   "name": "python3"
  },
  "language_info": {
   "codemirror_mode": {
    "name": "ipython",
    "version": 3
   },
   "file_extension": ".py",
   "mimetype": "text/x-python",
   "name": "python",
   "nbconvert_exporter": "python",
   "pygments_lexer": "ipython3",
   "version": "3.12.9"
  }
 },
 "nbformat": 4,
 "nbformat_minor": 2
}
