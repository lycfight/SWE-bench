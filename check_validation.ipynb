{
 "cells": [
  {
   "cell_type": "code",
   "execution_count": 4,
   "metadata": {},
   "outputs": [
    {
     "name": "stderr",
     "output_type": "stream",
     "text": [
      "/root/miniforge3/envs/SWE-bench/lib/python3.12/site-packages/tqdm/auto.py:21: TqdmWarning: IProgress not found. Please update jupyter and ipywidgets. See https://ipywidgets.readthedocs.io/en/stable/user_install.html\n",
      "  from .autonotebook import tqdm as notebook_tqdm\n"
     ]
    }
   ],
   "source": [
    "import json\n",
    "from collections import defaultdict\n",
    "import os\n",
    "import pandas as pd\n",
    "import docker\n",
    "from tqdm import tqdm\n",
    "from datasets import load_dataset\n",
    "import argparse\n"
   ]
  },
  {
   "cell_type": "code",
   "execution_count": 5,
   "metadata": {},
   "outputs": [],
   "source": [
    "\n",
    "def parse_args():\n",
    "    \"\"\"解析命令行参数\"\"\"\n",
    "    parser = argparse.ArgumentParser(\n",
    "        description=\"运行验证任务的配置参数\",\n",
    "        formatter_class=argparse.ArgumentDefaultsHelpFormatter  # 自动显示默认值\n",
    "    )\n",
    "    \n",
    "    # 路径参数\n",
    "    parser.add_argument(\n",
    "        \"--root_dir\", \"-r\",\n",
    "        type=str,\n",
    "        default='logs/run_validation/',\n",
    "        help=\"日志存储根目录\"\n",
    "    )\n",
    "    \n",
    "    # 模型参数\n",
    "    parser.add_argument(\n",
    "        \"--hf_name\", \"-m\",\n",
    "        type=str,\n",
    "        default='zengliangcs/SWE-Fixer-Ours-1',\n",
    "        help=\"Hugging Face仓库名称\"\n",
    "    )\n",
    "    # run id\n",
    "    parser.add_argument(\n",
    "        \"--run_id\",\n",
    "        type=str,\n",
    "        default='0329',\n",
    "        help=\"运行id号\"\n",
    "    )\n",
    "    # 数据参数\n",
    "    parser.add_argument(\n",
    "        \"--split\", \"-s\",\n",
    "        type=str,\n",
    "        choices=['train', 'validation', 'test'],\n",
    "        default='train',\n",
    "        help=\"数据集划分类型\"\n",
    "    )\n",
    "    \n",
    "    return parser.parse_known_args()[0]"
   ]
  },
  {
   "cell_type": "code",
   "execution_count": 6,
   "metadata": {},
   "outputs": [],
   "source": [
    "def get_validations(validation_logs, root_dir, test_type):\n",
    "    total_instances_num = 0\n",
    "    instance_with_report_num = 0\n",
    "    root_dir = os.path.join(root_dir, test_type)\n",
    "    for instance_id in os.listdir(root_dir):\n",
    "        instance_id_dir = os.path.join(root_dir, instance_id)\n",
    "        if os.path.isdir(instance_id_dir):\n",
    "            total_instances_num += 1\n",
    "            report_path = os.path.join(instance_id_dir, 'report.json')\n",
    "            # 是否存在report.json\n",
    "            if os.path.isfile(report_path):\n",
    "                instance_with_report_num += 1\n",
    "                try:\n",
    "                    with open(report_path, 'r') as f:\n",
    "                        data = json.load(f)\n",
    "                    # 获取以子目录名为键的 resolved 值，默认为 False\n",
    "                    # resolved = data.get(instance_id, {}).get('resolved', False)\n",
    "                    tests_status =  data.get(instance_id, {}).get('tests_status', {})\n",
    "                    if tests_status != {}:\n",
    "                        pass_set = set(tests_status.get('PASS', []))\n",
    "                        fail_set = set(tests_status.get('FAIL', []))\n",
    "                        validation_logs[instance_id][f\"{test_type}-PASS\"] = pass_set\n",
    "                        validation_logs[instance_id][f\"{test_type}-FAIL\"] = fail_set\n",
    "                except (json.JSONDecodeError, IOError):\n",
    "                    pass\n",
    "    return total_instances_num, instance_with_report_num\n"
   ]
  },
  {
   "cell_type": "code",
   "execution_count": 7,
   "metadata": {},
   "outputs": [],
   "source": [
    "\n",
    "def get_success_validation_data(root_dir):\n",
    "    total_instances_num = {'gold': 0, 'empty': 0}\n",
    "    instance_with_report_num = {'gold': 0, 'empty': 0}\n",
    "    saved_num = 0\n",
    "    validation_logs = defaultdict(lambda: defaultdict(set))\n",
    "    success_validation_data = defaultdict(lambda: defaultdict(list))\n",
    "    for test_type in ['gold', 'empty']:\n",
    "        type_total_instances_num, type_instance_with_report_num = get_validations(validation_logs, root_dir, test_type)\n",
    "        total_instances_num[test_type] = type_total_instances_num\n",
    "        instance_with_report_num[test_type] = type_instance_with_report_num\n",
    "    for instance_id, tests_status in validation_logs.items():\n",
    "        fail_to_pass = tests_status[\"gold-PASS\"] & tests_status[\"empty-FAIL\"]\n",
    "        pass_to_pass = tests_status[\"gold-PASS\"] & tests_status[\"empty-PASS\"]\n",
    "        # 只保存fail_to_pass不为空的instance\n",
    "        if len(fail_to_pass) > 0:\n",
    "            saved_num += 1\n",
    "            success_validation_data[instance_id]['FAIL_TO_PASS'] = list(fail_to_pass)\n",
    "            success_validation_data[instance_id]['PASS_TO_PASS'] = list(pass_to_pass)\n",
    "    return success_validation_data, total_instances_num, instance_with_report_num, saved_num\n"
   ]
  },
  {
   "cell_type": "code",
   "execution_count": 8,
   "metadata": {},
   "outputs": [],
   "source": [
    "\n",
    "def filter_dataset(hf_name, split, success_validation_data):\n",
    "    dataset = load_dataset(hf_name, split=split)\n",
    "    def process_data(example):\n",
    "        instance_id = example['instance_id']\n",
    "        example['FAIL_TO_PASS'] = success_validation_data[instance_id]['FAIL_TO_PASS']\n",
    "        example['PASS_TO_PASS'] = success_validation_data[instance_id]['PASS_TO_PASS']\n",
    "        return example\n",
    "\n",
    "    # 过滤数据并添加字段\n",
    "    validated_instances = dataset.filter(\n",
    "        lambda x: x['instance_id'] in success_validation_data.keys()\n",
    "    ).map(process_data)\n",
    "\n",
    "    return validated_instances\n"
   ]
  },
  {
   "cell_type": "code",
   "execution_count": null,
   "metadata": {},
   "outputs": [
    {
     "name": "stdout",
     "output_type": "stream",
     "text": [
      "当前配置：\n",
      "日志目录：logs/run_validation/\n",
      "运行ID：0329\n",
      "模型名称：zengliangcs/SWE-Fixer-Ours-1\n",
      "数据划分：train\n"
     ]
    },
    {
     "name": "stdout",
     "output_type": "stream",
     "text": [
      "instance总数：total_instances_num={'gold': 7780, 'empty': 7770}\n",
      "生成report.json的instance总数：instance_with_report_num={'gold': 4604, 'empty': 4647}\n",
      "保存的instance总数：saved_num=552\n"
     ]
    },
    {
     "name": "stderr",
     "output_type": "stream",
     "text": [
      "Filter: 100%|██████████| 7780/7780 [00:00<00:00, 71624.80 examples/s]\n",
      "Map: 100%|██████████| 552/552 [00:00<00:00, 8470.61 examples/s]\n",
      "Creating json from Arrow format: 100%|██████████| 1/1 [00:00<00:00,  5.05ba/s]\n"
     ]
    },
    {
     "data": {
      "text/plain": [
       "10715960"
      ]
     },
     "execution_count": 9,
     "metadata": {},
     "output_type": "execute_result"
    }
   ],
   "source": [
    "args = parse_args()\n",
    "print(f\"当前配置：\\n\"\n",
    "        f\"日志目录：{args.root_dir}\\n\"\n",
    "        f\"运行ID：{args.run_id}\\n\"\n",
    "        f\"仓库名称：{args.hf_name}\\n\"\n",
    "        f\"数据划分：{args.split}\")\n",
    "\n",
    "root_dir = os.path.join(args.root_dir, args.run_id)\n",
    "success_validation_data, total_instances_num, instance_with_report_num, saved_num = \\\n",
    "    get_success_validation_data(root_dir)\n",
    "\n",
    "print(f\"instance总数：{total_instances_num=}\")\n",
    "print(f\"生成report.json的instance总数：{instance_with_report_num=}\")\n",
    "print(f\"保存的instance总数：{saved_num=}\")\n",
    "\n",
    "validated_instances = filter_dataset(args.hf_name, args.split, success_validation_data)\n",
    "# 保存到本地\n",
    "validated_instances.to_json(\n",
    "    f\"{args.hf_name}.jsonl\", \n",
    "    orient=\"records\", \n",
    "    lines=True,\n",
    "    batch_size=10000,\n",
    "    force_ascii=False\n",
    ")\n"
   ]
  }
 ],
 "metadata": {
  "kernelspec": {
   "display_name": "SWE-bench",
   "language": "python",
   "name": "python3"
  },
  "language_info": {
   "codemirror_mode": {
    "name": "ipython",
    "version": 3
   },
   "file_extension": ".py",
   "mimetype": "text/x-python",
   "name": "python",
   "nbconvert_exporter": "python",
   "pygments_lexer": "ipython3",
   "version": "3.12.9"
  }
 },
 "nbformat": 4,
 "nbformat_minor": 2
}
