{
 "cells": [
  {
   "cell_type": "code",
   "execution_count": 4,
   "metadata": {},
   "outputs": [
    {
     "name": "stderr",
     "output_type": "stream",
     "text": [
      "/root/miniforge3/envs/SWE-bench/lib/python3.12/site-packages/tqdm/auto.py:21: TqdmWarning: IProgress not found. Please update jupyter and ipywidgets. See https://ipywidgets.readthedocs.io/en/stable/user_install.html\n",
      "  from .autonotebook import tqdm as notebook_tqdm\n"
     ]
    }
   ],
   "source": [
    "import json\n",
    "from collections import defaultdict\n",
    "import os\n",
    "import pandas as pd\n",
    "import docker\n",
    "from tqdm import tqdm\n",
    "from datasets import load_dataset\n",
    "import argparse\n"
   ]
  },
  {
   "cell_type": "code",
   "execution_count": 5,
   "metadata": {},
   "outputs": [],
   "source": [
    "\n",
    "def parse_args():\n",
    "    \"\"\"解析命令行参数\"\"\"\n",
    "    parser = argparse.ArgumentParser(\n",
    "        description=\"运行验证任务的配置参数\",\n",
    "        formatter_class=argparse.ArgumentDefaultsHelpFormatter  # 自动显示默认值\n",
    "    )\n",
    "    \n",
    "    # 路径参数\n",
    "    parser.add_argument(\n",
    "        \"--root_dir\", \"-r\",\n",
    "        type=str,\n",
    "        default='logs/run_validation/',\n",
    "        help=\"日志存储根目录\"\n",
    "    )\n",
    "    \n",
    "    # 模型参数\n",
    "    parser.add_argument(\n",
    "        \"--hf_name\", \"-m\",\n",
    "        type=str,\n",
    "        default='zengliangcs/SWE-Fixer-Ours-1',\n",
    "        help=\"Hugging Face仓库名称\"\n",
    "    )\n",
    "    # run id\n",
    "    parser.add_argument(\n",
    "        \"--run_id\",\n",
    "        type=str,\n",
    "        default='0329',\n",
    "        help=\"运行id号\"\n",
    "    )\n",
    "    # 数据参数\n",
    "    parser.add_argument(\n",
    "        \"--split\", \"-s\",\n",
    "        type=str,\n",
    "        choices=['train', 'validation', 'test'],\n",
    "        default='train',\n",
    "        help=\"数据集划分类型\"\n",
    "    )\n",
    "    \n",
    "    return parser.parse_known_args()[0]"
   ]
  },
  {
   "cell_type": "code",
   "execution_count": 6,
   "metadata": {},
   "outputs": [],
   "source": [
    "def get_validations(validation_logs, root_dir, test_type):\n",
    "    total_instances_num = 0\n",
    "    instance_with_report_num = 0\n",
    "    root_dir = os.path.join(root_dir, test_type)\n",
    "    for instance_id in os.listdir(root_dir):\n",
    "        instance_id_dir = os.path.join(root_dir, instance_id)\n",
    "        if os.path.isdir(instance_id_dir):\n",
    "            total_instances_num += 1\n",
    "            report_path = os.path.join(instance_id_dir, 'report.json')\n",
    "            # 是否存在report.json\n",
    "            if os.path.isfile(report_path):\n",
    "                instance_with_report_num += 1\n",
    "                try:\n",
    "                    with open(report_path, 'r') as f:\n",
    "                        data = json.load(f)\n",
    "                    # 获取以子目录名为键的 resolved 值，默认为 False\n",
    "                    # resolved = data.get(instance_id, {}).get('resolved', False)\n",
    "                    tests_status =  data.get(instance_id, {}).get('tests_status', {})\n",
    "                    if tests_status != {}:\n",
    "                        pass_set = set(tests_status.get('PASS', []))\n",
    "                        fail_set = set(tests_status.get('FAIL', []))\n",
    "                        validation_logs[instance_id][f\"{test_type}-PASS\"] = pass_set\n",
    "                        validation_logs[instance_id][f\"{test_type}-FAIL\"] = fail_set\n",
    "                except (json.JSONDecodeError, IOError):\n",
    "                    pass\n",
    "    return total_instances_num, instance_with_report_num\n"
   ]
  },
  {
   "cell_type": "code",
   "execution_count": 7,
   "metadata": {},
   "outputs": [],
   "source": [
    "\n",
    "def get_success_validation_data(root_dir):\n",
    "    total_instances_num = {'gold': 0, 'empty': 0}\n",
    "    instance_with_report_num = {'gold': 0, 'empty': 0}\n",
    "    saved_num = 0\n",
    "    validation_logs = defaultdict(lambda: defaultdict(set))\n",
    "    success_validation_data = defaultdict(lambda: defaultdict(list))\n",
    "    for test_type in ['gold', 'empty']:\n",
    "        type_total_instances_num, type_instance_with_report_num = get_validations(validation_logs, root_dir, test_type)\n",
    "        total_instances_num[test_type] = type_total_instances_num\n",
    "        instance_with_report_num[test_type] = type_instance_with_report_num\n",
    "    for instance_id, tests_status in validation_logs.items():\n",
    "        fail_to_pass = tests_status[\"gold-PASS\"] & tests_status[\"empty-FAIL\"]\n",
    "        pass_to_pass = tests_status[\"gold-PASS\"] & tests_status[\"empty-PASS\"]\n",
    "        # 只保存fail_to_pass不为空的instance\n",
    "        if len(fail_to_pass) > 0:\n",
    "            saved_num += 1\n",
    "            success_validation_data[instance_id]['FAIL_TO_PASS'] = list(fail_to_pass)\n",
    "            success_validation_data[instance_id]['PASS_TO_PASS'] = list(pass_to_pass)\n",
    "    return success_validation_data, total_instances_num, instance_with_report_num, saved_num\n"
   ]
  },
  {
   "cell_type": "code",
   "execution_count": 8,
   "metadata": {},
   "outputs": [],
   "source": [
    "\n",
    "def filter_dataset(hf_name, split, success_validation_data):\n",
    "    dataset = load_dataset(hf_name, split=split)\n",
    "    def process_data(example):\n",
    "        instance_id = example['instance_id']\n",
    "        example['FAIL_TO_PASS'] = success_validation_data[instance_id]['FAIL_TO_PASS']\n",
    "        example['PASS_TO_PASS'] = success_validation_data[instance_id]['PASS_TO_PASS']\n",
    "        return example\n",
    "\n",
    "    # 过滤数据并添加字段\n",
    "    validated_instances = dataset.filter(\n",
    "        lambda x: x['instance_id'] in success_validation_data.keys()\n",
    "    ).map(process_data)\n",
    "\n",
    "    return validated_instances\n"
   ]
  },
  {
   "cell_type": "code",
   "execution_count": 9,
   "metadata": {},
   "outputs": [
    {
     "name": "stdout",
     "output_type": "stream",
     "text": [
      "当前配置：\n",
      "日志目录：logs/run_validation/\n",
      "运行ID：0329\n",
      "模型名称：zengliangcs/SWE-Fixer-Ours-1\n",
      "数据划分：train\n"
     ]
    },
    {
     "name": "stdout",
     "output_type": "stream",
     "text": [
      "instance总数：total_instances_num={'gold': 7780, 'empty': 7770}\n",
      "生成report.json的instance总数：instance_with_report_num={'gold': 4604, 'empty': 4647}\n",
      "保存的instance总数：saved_num=552\n"
     ]
    },
    {
     "name": "stderr",
     "output_type": "stream",
     "text": [
      "Filter: 100%|██████████| 7780/7780 [00:00<00:00, 71624.80 examples/s]\n",
      "Map: 100%|██████████| 552/552 [00:00<00:00, 8470.61 examples/s]\n",
      "Creating json from Arrow format: 100%|██████████| 1/1 [00:00<00:00,  5.05ba/s]\n"
     ]
    },
    {
     "data": {
      "text/plain": [
       "10715960"
      ]
     },
     "execution_count": 9,
     "metadata": {},
     "output_type": "execute_result"
    }
   ],
   "source": [
    "args = parse_args()\n",
    "print(f\"当前配置：\\n\"\n",
    "        f\"日志目录：{args.root_dir}\\n\"\n",
    "        f\"运行ID：{args.run_id}\\n\"\n",
    "        f\"模型名称：{args.hf_name}\\n\"\n",
    "        f\"数据划分：{args.split}\")\n",
    "\n",
    "root_dir = os.path.join(args.root_dir, args.run_id)\n",
    "success_validation_data, total_instances_num, instance_with_report_num, saved_num = \\\n",
    "    get_success_validation_data(root_dir)\n",
    "\n",
    "print(f\"instance总数：{total_instances_num=}\")\n",
    "print(f\"生成report.json的instance总数：{instance_with_report_num=}\")\n",
    "print(f\"保存的instance总数：{saved_num=}\")\n",
    "\n",
    "validated_instances = filter_dataset(args.hf_name, args.split, success_validation_data)\n",
    "# 保存到本地\n",
    "validated_instances.to_json(\n",
    "    f\"{args.hf_name}.jsonl\", \n",
    "    orient=\"records\", \n",
    "    lines=True,\n",
    "    batch_size=10000,\n",
    "    force_ascii=False\n",
    ")\n"
   ]
  },
  {
   "cell_type": "code",
   "execution_count": 10,
   "metadata": {},
   "outputs": [],
   "source": [
    "# Push validated instance images to Docker Hub\n",
    "def push_validated_instances_images(\n",
    "    instances, \n",
    "    namespace: str = \"lycfight\",\n",
    "    instance_image_tag: str = \"latest\"\n",
    "):\n",
    "    client = docker.from_env()\n",
    "    success = 0\n",
    "    failed = 0\n",
    "    \n",
    "    print(f\"Pushing {len(instances)} validated instance images to {namespace}...\")\n",
    "    with tqdm(total=len(instances)) as pbar:\n",
    "        for instance in instances:\n",
    "            instance_id = instance['instance_id']\n",
    "            image_name = f\"sweb.eval.x86_64.{instance_id.lower()}:{instance_image_tag}\"\n",
    "            new_image_name = f\"{namespace}/{image_name}\".replace(\"__\", \"_s_\")\n",
    "            \n",
    "            try:\n",
    "                image = client.images.get(image_name)\n",
    "                image.tag(new_image_name)\n",
    "                \n",
    "                for line in client.images.push(new_image_name, stream=True, decode=True):\n",
    "                    if 'error' in line:\n",
    "                        raise Exception(line['error'])\n",
    "                success += 1\n",
    "                \n",
    "            except Exception as e:\n",
    "                print(f\"Error pushing {image_name}: {e}\")\n",
    "                failed += 1\n",
    "                \n",
    "            pbar.update(1)\n",
    "            pbar.set_postfix({\n",
    "                \"success\": success,\n",
    "                \"failed\": failed\n",
    "            })\n",
    "    \n",
    "    print(f\"Finished pushing images: {success} successful, {failed} failed\")"
   ]
  },
  {
   "cell_type": "code",
   "execution_count": 11,
   "metadata": {},
   "outputs": [
    {
     "name": "stdout",
     "output_type": "stream",
     "text": [
      "Pushing 552 validated instance images to lycfight...\n"
     ]
    },
    {
     "name": "stderr",
     "output_type": "stream",
     "text": [
      "  1%|          | 3/552 [00:43<2:11:11, 14.34s/it, success=3, failed=0]\n"
     ]
    },
    {
     "ename": "KeyboardInterrupt",
     "evalue": "",
     "output_type": "error",
     "traceback": [
      "\u001b[31m---------------------------------------------------------------------------\u001b[39m",
      "\u001b[31mKeyboardInterrupt\u001b[39m                         Traceback (most recent call last)",
      "\u001b[36mCell\u001b[39m\u001b[36m \u001b[39m\u001b[32mIn[11]\u001b[39m\u001b[32m, line 3\u001b[39m\n\u001b[32m      1\u001b[39m \u001b[38;5;66;03m# Push images for validated instances\u001b[39;00m\n\u001b[32m      2\u001b[39m \u001b[38;5;66;03m# push之前要先登陆\u001b[39;00m\n\u001b[32m----> \u001b[39m\u001b[32m3\u001b[39m \u001b[43mpush_validated_instances_images\u001b[49m\u001b[43m(\u001b[49m\u001b[43mvalidated_instances\u001b[49m\u001b[43m)\u001b[49m\n",
      "\u001b[36mCell\u001b[39m\u001b[36m \u001b[39m\u001b[32mIn[10]\u001b[39m\u001b[32m, line 22\u001b[39m, in \u001b[36mpush_validated_instances_images\u001b[39m\u001b[34m(instances, namespace, instance_image_tag)\u001b[39m\n\u001b[32m     19\u001b[39m image = client.images.get(image_name)\n\u001b[32m     20\u001b[39m image.tag(new_image_name)\n\u001b[32m---> \u001b[39m\u001b[32m22\u001b[39m \u001b[43m\u001b[49m\u001b[38;5;28;43;01mfor\u001b[39;49;00m\u001b[43m \u001b[49m\u001b[43mline\u001b[49m\u001b[43m \u001b[49m\u001b[38;5;129;43;01min\u001b[39;49;00m\u001b[43m \u001b[49m\u001b[43mclient\u001b[49m\u001b[43m.\u001b[49m\u001b[43mimages\u001b[49m\u001b[43m.\u001b[49m\u001b[43mpush\u001b[49m\u001b[43m(\u001b[49m\u001b[43mnew_image_name\u001b[49m\u001b[43m,\u001b[49m\u001b[43m \u001b[49m\u001b[43mstream\u001b[49m\u001b[43m=\u001b[49m\u001b[38;5;28;43;01mTrue\u001b[39;49;00m\u001b[43m,\u001b[49m\u001b[43m \u001b[49m\u001b[43mdecode\u001b[49m\u001b[43m=\u001b[49m\u001b[38;5;28;43;01mTrue\u001b[39;49;00m\u001b[43m)\u001b[49m\u001b[43m:\u001b[49m\n\u001b[32m     23\u001b[39m \u001b[43m    \u001b[49m\u001b[38;5;28;43;01mif\u001b[39;49;00m\u001b[43m \u001b[49m\u001b[33;43m'\u001b[39;49m\u001b[33;43merror\u001b[39;49m\u001b[33;43m'\u001b[39;49m\u001b[43m \u001b[49m\u001b[38;5;129;43;01min\u001b[39;49;00m\u001b[43m \u001b[49m\u001b[43mline\u001b[49m\u001b[43m:\u001b[49m\n\u001b[32m     24\u001b[39m \u001b[43m        \u001b[49m\u001b[38;5;28;43;01mraise\u001b[39;49;00m\u001b[43m \u001b[49m\u001b[38;5;167;43;01mException\u001b[39;49;00m\u001b[43m(\u001b[49m\u001b[43mline\u001b[49m\u001b[43m[\u001b[49m\u001b[33;43m'\u001b[39;49m\u001b[33;43merror\u001b[39;49m\u001b[33;43m'\u001b[39;49m\u001b[43m]\u001b[49m\u001b[43m)\u001b[49m\n",
      "\u001b[36mFile \u001b[39m\u001b[32m~/miniforge3/envs/SWE-bench/lib/python3.12/site-packages/docker/api/client.py:360\u001b[39m, in \u001b[36mAPIClient._stream_helper\u001b[39m\u001b[34m(self, response, decode)\u001b[39m\n\u001b[32m    358\u001b[39m \u001b[38;5;28;01mif\u001b[39;00m response.raw._fp.chunked:\n\u001b[32m    359\u001b[39m     \u001b[38;5;28;01mif\u001b[39;00m decode:\n\u001b[32m--> \u001b[39m\u001b[32m360\u001b[39m         \u001b[38;5;28;01myield from\u001b[39;00m json_stream(\u001b[38;5;28mself\u001b[39m._stream_helper(response, \u001b[38;5;28;01mFalse\u001b[39;00m))\n\u001b[32m    361\u001b[39m     \u001b[38;5;28;01melse\u001b[39;00m:\n\u001b[32m    362\u001b[39m         reader = response.raw\n",
      "\u001b[36mFile \u001b[39m\u001b[32m~/miniforge3/envs/SWE-bench/lib/python3.12/site-packages/docker/utils/json_stream.py:60\u001b[39m, in \u001b[36msplit_buffer\u001b[39m\u001b[34m(stream, splitter, decoder)\u001b[39m\n\u001b[32m     57\u001b[39m splitter = splitter \u001b[38;5;129;01mor\u001b[39;00m line_splitter\n\u001b[32m     58\u001b[39m buffered = \u001b[33m'\u001b[39m\u001b[33m'\u001b[39m\n\u001b[32m---> \u001b[39m\u001b[32m60\u001b[39m \u001b[43m\u001b[49m\u001b[38;5;28;43;01mfor\u001b[39;49;00m\u001b[43m \u001b[49m\u001b[43mdata\u001b[49m\u001b[43m \u001b[49m\u001b[38;5;129;43;01min\u001b[39;49;00m\u001b[43m \u001b[49m\u001b[43mstream_as_text\u001b[49m\u001b[43m(\u001b[49m\u001b[43mstream\u001b[49m\u001b[43m)\u001b[49m\u001b[43m:\u001b[49m\n\u001b[32m     61\u001b[39m \u001b[43m    \u001b[49m\u001b[43mbuffered\u001b[49m\u001b[43m \u001b[49m\u001b[43m+\u001b[49m\u001b[43m=\u001b[49m\u001b[43m \u001b[49m\u001b[43mdata\u001b[49m\n\u001b[32m     62\u001b[39m \u001b[43m    \u001b[49m\u001b[38;5;28;43;01mwhile\u001b[39;49;00m\u001b[43m \u001b[49m\u001b[38;5;28;43;01mTrue\u001b[39;49;00m\u001b[43m:\u001b[49m\n",
      "\u001b[36mFile \u001b[39m\u001b[32m~/miniforge3/envs/SWE-bench/lib/python3.12/site-packages/docker/utils/json_stream.py:16\u001b[39m, in \u001b[36mstream_as_text\u001b[39m\u001b[34m(stream)\u001b[39m\n\u001b[32m      9\u001b[39m \u001b[38;5;28;01mdef\u001b[39;00m\u001b[38;5;250m \u001b[39m\u001b[34mstream_as_text\u001b[39m(stream):\n\u001b[32m     10\u001b[39m \u001b[38;5;250m    \u001b[39m\u001b[33;03m\"\"\"\u001b[39;00m\n\u001b[32m     11\u001b[39m \u001b[33;03m    Given a stream of bytes or text, if any of the items in the stream\u001b[39;00m\n\u001b[32m     12\u001b[39m \u001b[33;03m    are bytes convert them to text.\u001b[39;00m\n\u001b[32m     13\u001b[39m \u001b[33;03m    This function can be removed once we return text streams\u001b[39;00m\n\u001b[32m     14\u001b[39m \u001b[33;03m    instead of byte streams.\u001b[39;00m\n\u001b[32m     15\u001b[39m \u001b[33;03m    \"\"\"\u001b[39;00m\n\u001b[32m---> \u001b[39m\u001b[32m16\u001b[39m \u001b[43m    \u001b[49m\u001b[38;5;28;43;01mfor\u001b[39;49;00m\u001b[43m \u001b[49m\u001b[43mdata\u001b[49m\u001b[43m \u001b[49m\u001b[38;5;129;43;01min\u001b[39;49;00m\u001b[43m \u001b[49m\u001b[43mstream\u001b[49m\u001b[43m:\u001b[49m\n\u001b[32m     17\u001b[39m \u001b[43m        \u001b[49m\u001b[38;5;28;43;01mif\u001b[39;49;00m\u001b[43m \u001b[49m\u001b[38;5;129;43;01mnot\u001b[39;49;00m\u001b[43m \u001b[49m\u001b[38;5;28;43misinstance\u001b[39;49m\u001b[43m(\u001b[49m\u001b[43mdata\u001b[49m\u001b[43m,\u001b[49m\u001b[43m \u001b[49m\u001b[38;5;28;43mstr\u001b[39;49m\u001b[43m)\u001b[49m\u001b[43m:\u001b[49m\n\u001b[32m     18\u001b[39m \u001b[43m            \u001b[49m\u001b[43mdata\u001b[49m\u001b[43m \u001b[49m\u001b[43m=\u001b[49m\u001b[43m \u001b[49m\u001b[43mdata\u001b[49m\u001b[43m.\u001b[49m\u001b[43mdecode\u001b[49m\u001b[43m(\u001b[49m\u001b[33;43m'\u001b[39;49m\u001b[33;43mutf-8\u001b[39;49m\u001b[33;43m'\u001b[39;49m\u001b[43m,\u001b[49m\u001b[43m \u001b[49m\u001b[33;43m'\u001b[39;49m\u001b[33;43mreplace\u001b[39;49m\u001b[33;43m'\u001b[39;49m\u001b[43m)\u001b[49m\n",
      "\u001b[36mFile \u001b[39m\u001b[32m~/miniforge3/envs/SWE-bench/lib/python3.12/site-packages/docker/api/client.py:365\u001b[39m, in \u001b[36mAPIClient._stream_helper\u001b[39m\u001b[34m(self, response, decode)\u001b[39m\n\u001b[32m    362\u001b[39m reader = response.raw\n\u001b[32m    363\u001b[39m \u001b[38;5;28;01mwhile\u001b[39;00m \u001b[38;5;129;01mnot\u001b[39;00m reader.closed:\n\u001b[32m    364\u001b[39m     \u001b[38;5;66;03m# this read call will block until we get a chunk\u001b[39;00m\n\u001b[32m--> \u001b[39m\u001b[32m365\u001b[39m     data = \u001b[43mreader\u001b[49m\u001b[43m.\u001b[49m\u001b[43mread\u001b[49m\u001b[43m(\u001b[49m\u001b[32;43m1\u001b[39;49m\u001b[43m)\u001b[49m\n\u001b[32m    366\u001b[39m     \u001b[38;5;28;01mif\u001b[39;00m \u001b[38;5;129;01mnot\u001b[39;00m data:\n\u001b[32m    367\u001b[39m         \u001b[38;5;28;01mbreak\u001b[39;00m\n",
      "\u001b[36mFile \u001b[39m\u001b[32m~/miniforge3/envs/SWE-bench/lib/python3.12/site-packages/urllib3/response.py:955\u001b[39m, in \u001b[36mHTTPResponse.read\u001b[39m\u001b[34m(self, amt, decode_content, cache_content)\u001b[39m\n\u001b[32m    952\u001b[39m     \u001b[38;5;28;01mif\u001b[39;00m \u001b[38;5;28mlen\u001b[39m(\u001b[38;5;28mself\u001b[39m._decoded_buffer) >= amt:\n\u001b[32m    953\u001b[39m         \u001b[38;5;28;01mreturn\u001b[39;00m \u001b[38;5;28mself\u001b[39m._decoded_buffer.get(amt)\n\u001b[32m--> \u001b[39m\u001b[32m955\u001b[39m data = \u001b[38;5;28;43mself\u001b[39;49m\u001b[43m.\u001b[49m\u001b[43m_raw_read\u001b[49m\u001b[43m(\u001b[49m\u001b[43mamt\u001b[49m\u001b[43m)\u001b[49m\n\u001b[32m    957\u001b[39m flush_decoder = amt \u001b[38;5;129;01mis\u001b[39;00m \u001b[38;5;28;01mNone\u001b[39;00m \u001b[38;5;129;01mor\u001b[39;00m (amt != \u001b[32m0\u001b[39m \u001b[38;5;129;01mand\u001b[39;00m \u001b[38;5;129;01mnot\u001b[39;00m data)\n\u001b[32m    959\u001b[39m \u001b[38;5;28;01mif\u001b[39;00m \u001b[38;5;129;01mnot\u001b[39;00m data \u001b[38;5;129;01mand\u001b[39;00m \u001b[38;5;28mlen\u001b[39m(\u001b[38;5;28mself\u001b[39m._decoded_buffer) == \u001b[32m0\u001b[39m:\n",
      "\u001b[36mFile \u001b[39m\u001b[32m~/miniforge3/envs/SWE-bench/lib/python3.12/site-packages/urllib3/response.py:879\u001b[39m, in \u001b[36mHTTPResponse._raw_read\u001b[39m\u001b[34m(self, amt, read1)\u001b[39m\n\u001b[32m    876\u001b[39m fp_closed = \u001b[38;5;28mgetattr\u001b[39m(\u001b[38;5;28mself\u001b[39m._fp, \u001b[33m\"\u001b[39m\u001b[33mclosed\u001b[39m\u001b[33m\"\u001b[39m, \u001b[38;5;28;01mFalse\u001b[39;00m)\n\u001b[32m    878\u001b[39m \u001b[38;5;28;01mwith\u001b[39;00m \u001b[38;5;28mself\u001b[39m._error_catcher():\n\u001b[32m--> \u001b[39m\u001b[32m879\u001b[39m     data = \u001b[38;5;28;43mself\u001b[39;49m\u001b[43m.\u001b[49m\u001b[43m_fp_read\u001b[49m\u001b[43m(\u001b[49m\u001b[43mamt\u001b[49m\u001b[43m,\u001b[49m\u001b[43m \u001b[49m\u001b[43mread1\u001b[49m\u001b[43m=\u001b[49m\u001b[43mread1\u001b[49m\u001b[43m)\u001b[49m \u001b[38;5;28;01mif\u001b[39;00m \u001b[38;5;129;01mnot\u001b[39;00m fp_closed \u001b[38;5;28;01melse\u001b[39;00m \u001b[33mb\u001b[39m\u001b[33m\"\u001b[39m\u001b[33m\"\u001b[39m\n\u001b[32m    880\u001b[39m     \u001b[38;5;28;01mif\u001b[39;00m amt \u001b[38;5;129;01mis\u001b[39;00m \u001b[38;5;129;01mnot\u001b[39;00m \u001b[38;5;28;01mNone\u001b[39;00m \u001b[38;5;129;01mand\u001b[39;00m amt != \u001b[32m0\u001b[39m \u001b[38;5;129;01mand\u001b[39;00m \u001b[38;5;129;01mnot\u001b[39;00m data:\n\u001b[32m    881\u001b[39m         \u001b[38;5;66;03m# Platform-specific: Buggy versions of Python.\u001b[39;00m\n\u001b[32m    882\u001b[39m         \u001b[38;5;66;03m# Close the connection when no data is returned\u001b[39;00m\n\u001b[32m   (...)\u001b[39m\u001b[32m    887\u001b[39m         \u001b[38;5;66;03m# not properly close the connection in all cases. There is\u001b[39;00m\n\u001b[32m    888\u001b[39m         \u001b[38;5;66;03m# no harm in redundantly calling close.\u001b[39;00m\n\u001b[32m    889\u001b[39m         \u001b[38;5;28mself\u001b[39m._fp.close()\n",
      "\u001b[36mFile \u001b[39m\u001b[32m~/miniforge3/envs/SWE-bench/lib/python3.12/site-packages/urllib3/response.py:862\u001b[39m, in \u001b[36mHTTPResponse._fp_read\u001b[39m\u001b[34m(self, amt, read1)\u001b[39m\n\u001b[32m    859\u001b[39m     \u001b[38;5;28;01mreturn\u001b[39;00m \u001b[38;5;28mself\u001b[39m._fp.read1(amt) \u001b[38;5;28;01mif\u001b[39;00m amt \u001b[38;5;129;01mis\u001b[39;00m \u001b[38;5;129;01mnot\u001b[39;00m \u001b[38;5;28;01mNone\u001b[39;00m \u001b[38;5;28;01melse\u001b[39;00m \u001b[38;5;28mself\u001b[39m._fp.read1()\n\u001b[32m    860\u001b[39m \u001b[38;5;28;01melse\u001b[39;00m:\n\u001b[32m    861\u001b[39m     \u001b[38;5;66;03m# StringIO doesn't like amt=None\u001b[39;00m\n\u001b[32m--> \u001b[39m\u001b[32m862\u001b[39m     \u001b[38;5;28;01mreturn\u001b[39;00m \u001b[38;5;28;43mself\u001b[39;49m\u001b[43m.\u001b[49m\u001b[43m_fp\u001b[49m\u001b[43m.\u001b[49m\u001b[43mread\u001b[49m\u001b[43m(\u001b[49m\u001b[43mamt\u001b[49m\u001b[43m)\u001b[49m \u001b[38;5;28;01mif\u001b[39;00m amt \u001b[38;5;129;01mis\u001b[39;00m \u001b[38;5;129;01mnot\u001b[39;00m \u001b[38;5;28;01mNone\u001b[39;00m \u001b[38;5;28;01melse\u001b[39;00m \u001b[38;5;28mself\u001b[39m._fp.read()\n",
      "\u001b[36mFile \u001b[39m\u001b[32m~/miniforge3/envs/SWE-bench/lib/python3.12/http/client.py:473\u001b[39m, in \u001b[36mHTTPResponse.read\u001b[39m\u001b[34m(self, amt)\u001b[39m\n\u001b[32m    470\u001b[39m     \u001b[38;5;28;01mreturn\u001b[39;00m \u001b[33mb\u001b[39m\u001b[33m\"\u001b[39m\u001b[33m\"\u001b[39m\n\u001b[32m    472\u001b[39m \u001b[38;5;28;01mif\u001b[39;00m \u001b[38;5;28mself\u001b[39m.chunked:\n\u001b[32m--> \u001b[39m\u001b[32m473\u001b[39m     \u001b[38;5;28;01mreturn\u001b[39;00m \u001b[38;5;28;43mself\u001b[39;49m\u001b[43m.\u001b[49m\u001b[43m_read_chunked\u001b[49m\u001b[43m(\u001b[49m\u001b[43mamt\u001b[49m\u001b[43m)\u001b[49m\n\u001b[32m    475\u001b[39m \u001b[38;5;28;01mif\u001b[39;00m amt \u001b[38;5;129;01mis\u001b[39;00m \u001b[38;5;129;01mnot\u001b[39;00m \u001b[38;5;28;01mNone\u001b[39;00m \u001b[38;5;129;01mand\u001b[39;00m amt >= \u001b[32m0\u001b[39m:\n\u001b[32m    476\u001b[39m     \u001b[38;5;28;01mif\u001b[39;00m \u001b[38;5;28mself\u001b[39m.length \u001b[38;5;129;01mis\u001b[39;00m \u001b[38;5;129;01mnot\u001b[39;00m \u001b[38;5;28;01mNone\u001b[39;00m \u001b[38;5;129;01mand\u001b[39;00m amt > \u001b[38;5;28mself\u001b[39m.length:\n\u001b[32m    477\u001b[39m         \u001b[38;5;66;03m# clip the read to the \"end of response\"\u001b[39;00m\n",
      "\u001b[36mFile \u001b[39m\u001b[32m~/miniforge3/envs/SWE-bench/lib/python3.12/http/client.py:597\u001b[39m, in \u001b[36mHTTPResponse._read_chunked\u001b[39m\u001b[34m(self, amt)\u001b[39m\n\u001b[32m    595\u001b[39m value = []\n\u001b[32m    596\u001b[39m \u001b[38;5;28;01mtry\u001b[39;00m:\n\u001b[32m--> \u001b[39m\u001b[32m597\u001b[39m     \u001b[38;5;28;01mwhile\u001b[39;00m (chunk_left := \u001b[38;5;28;43mself\u001b[39;49m\u001b[43m.\u001b[49m\u001b[43m_get_chunk_left\u001b[49m\u001b[43m(\u001b[49m\u001b[43m)\u001b[49m) \u001b[38;5;129;01mis\u001b[39;00m \u001b[38;5;129;01mnot\u001b[39;00m \u001b[38;5;28;01mNone\u001b[39;00m:\n\u001b[32m    598\u001b[39m         \u001b[38;5;28;01mif\u001b[39;00m amt \u001b[38;5;129;01mis\u001b[39;00m \u001b[38;5;129;01mnot\u001b[39;00m \u001b[38;5;28;01mNone\u001b[39;00m \u001b[38;5;129;01mand\u001b[39;00m amt <= chunk_left:\n\u001b[32m    599\u001b[39m             value.append(\u001b[38;5;28mself\u001b[39m._safe_read(amt))\n",
      "\u001b[36mFile \u001b[39m\u001b[32m~/miniforge3/envs/SWE-bench/lib/python3.12/http/client.py:579\u001b[39m, in \u001b[36mHTTPResponse._get_chunk_left\u001b[39m\u001b[34m(self)\u001b[39m\n\u001b[32m    577\u001b[39m     \u001b[38;5;28mself\u001b[39m._safe_read(\u001b[32m2\u001b[39m)  \u001b[38;5;66;03m# toss the CRLF at the end of the chunk\u001b[39;00m\n\u001b[32m    578\u001b[39m \u001b[38;5;28;01mtry\u001b[39;00m:\n\u001b[32m--> \u001b[39m\u001b[32m579\u001b[39m     chunk_left = \u001b[38;5;28;43mself\u001b[39;49m\u001b[43m.\u001b[49m\u001b[43m_read_next_chunk_size\u001b[49m\u001b[43m(\u001b[49m\u001b[43m)\u001b[49m\n\u001b[32m    580\u001b[39m \u001b[38;5;28;01mexcept\u001b[39;00m \u001b[38;5;167;01mValueError\u001b[39;00m:\n\u001b[32m    581\u001b[39m     \u001b[38;5;28;01mraise\u001b[39;00m IncompleteRead(\u001b[33mb\u001b[39m\u001b[33m'\u001b[39m\u001b[33m'\u001b[39m)\n",
      "\u001b[36mFile \u001b[39m\u001b[32m~/miniforge3/envs/SWE-bench/lib/python3.12/http/client.py:539\u001b[39m, in \u001b[36mHTTPResponse._read_next_chunk_size\u001b[39m\u001b[34m(self)\u001b[39m\n\u001b[32m    537\u001b[39m \u001b[38;5;28;01mdef\u001b[39;00m\u001b[38;5;250m \u001b[39m\u001b[34m_read_next_chunk_size\u001b[39m(\u001b[38;5;28mself\u001b[39m):\n\u001b[32m    538\u001b[39m     \u001b[38;5;66;03m# Read the next chunk size from the file\u001b[39;00m\n\u001b[32m--> \u001b[39m\u001b[32m539\u001b[39m     line = \u001b[38;5;28;43mself\u001b[39;49m\u001b[43m.\u001b[49m\u001b[43mfp\u001b[49m\u001b[43m.\u001b[49m\u001b[43mreadline\u001b[49m\u001b[43m(\u001b[49m\u001b[43m_MAXLINE\u001b[49m\u001b[43m \u001b[49m\u001b[43m+\u001b[49m\u001b[43m \u001b[49m\u001b[32;43m1\u001b[39;49m\u001b[43m)\u001b[49m\n\u001b[32m    540\u001b[39m     \u001b[38;5;28;01mif\u001b[39;00m \u001b[38;5;28mlen\u001b[39m(line) > _MAXLINE:\n\u001b[32m    541\u001b[39m         \u001b[38;5;28;01mraise\u001b[39;00m LineTooLong(\u001b[33m\"\u001b[39m\u001b[33mchunk size\u001b[39m\u001b[33m\"\u001b[39m)\n",
      "\u001b[36mFile \u001b[39m\u001b[32m~/miniforge3/envs/SWE-bench/lib/python3.12/socket.py:720\u001b[39m, in \u001b[36mSocketIO.readinto\u001b[39m\u001b[34m(self, b)\u001b[39m\n\u001b[32m    718\u001b[39m \u001b[38;5;28;01mwhile\u001b[39;00m \u001b[38;5;28;01mTrue\u001b[39;00m:\n\u001b[32m    719\u001b[39m     \u001b[38;5;28;01mtry\u001b[39;00m:\n\u001b[32m--> \u001b[39m\u001b[32m720\u001b[39m         \u001b[38;5;28;01mreturn\u001b[39;00m \u001b[38;5;28;43mself\u001b[39;49m\u001b[43m.\u001b[49m\u001b[43m_sock\u001b[49m\u001b[43m.\u001b[49m\u001b[43mrecv_into\u001b[49m\u001b[43m(\u001b[49m\u001b[43mb\u001b[49m\u001b[43m)\u001b[49m\n\u001b[32m    721\u001b[39m     \u001b[38;5;28;01mexcept\u001b[39;00m timeout:\n\u001b[32m    722\u001b[39m         \u001b[38;5;28mself\u001b[39m._timeout_occurred = \u001b[38;5;28;01mTrue\u001b[39;00m\n",
      "\u001b[31mKeyboardInterrupt\u001b[39m: "
     ]
    }
   ],
   "source": [
    "# Push images for validated instances\n",
    "# push之前要先登陆\n",
    "push_validated_instances_images(validated_instances)"
   ]
  }
 ],
 "metadata": {
  "kernelspec": {
   "display_name": "SWE-bench",
   "language": "python",
   "name": "python3"
  },
  "language_info": {
   "codemirror_mode": {
    "name": "ipython",
    "version": 3
   },
   "file_extension": ".py",
   "mimetype": "text/x-python",
   "name": "python",
   "nbconvert_exporter": "python",
   "pygments_lexer": "ipython3",
   "version": "3.12.9"
  }
 },
 "nbformat": 4,
 "nbformat_minor": 2
}
